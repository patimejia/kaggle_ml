{
 "cells": [
  {
   "cell_type": "code",
   "execution_count": 1,
   "id": "38147c44",
   "metadata": {
    "_cell_guid": "b1076dfc-b9ad-4769-8c92-a6c4dae69d19",
    "_uuid": "8f2839f25d086af736a60e9eeb907d3b93b6e0e5",
    "execution": {
     "iopub.execute_input": "2023-01-20T03:46:51.293178Z",
     "iopub.status.busy": "2023-01-20T03:46:51.292434Z",
     "iopub.status.idle": "2023-01-20T03:46:51.303739Z",
     "shell.execute_reply": "2023-01-20T03:46:51.302638Z"
    },
    "papermill": {
     "duration": 0.019172,
     "end_time": "2023-01-20T03:46:51.306215",
     "exception": false,
     "start_time": "2023-01-20T03:46:51.287043",
     "status": "completed"
    },
    "tags": []
   },
   "outputs": [],
   "source": [
    "# This Python 3 environment comes with many helpful analytics libraries installed\n",
    "# It is defined by the kaggle/python Docker image: https://github.com/kaggle/docker-python\n",
    "# For example, here's several helpful packages to load\n",
    "\n",
    "import numpy as np # linear algebra\n",
    "import pandas as pd # data processing, CSV file I/O (e.g. pd.read_csv)\n",
    "\n",
    "# Input data files are available in the read-only \"../input/\" directory\n",
    "# For example, running this (by clicking run or pressing Shift+Enter) will list all files under the input directory\n",
    "\n",
    "import os\n",
    "for dirname, _, filenames in os.walk('/kaggle/input'):\n",
    "    for filename in filenames:\n",
    "        print(os.path.join(dirname, filename))\n",
    "\n",
    "# You can write up to 20GB to the current directory (/kaggle/working/) that gets preserved as output when you create a version using \"Save & Run All\" \n",
    "# You can also write temporary files to /kaggle/temp/, but they won't be saved outside of the current session"
   ]
  },
  {
   "cell_type": "markdown",
   "id": "d1a4b529",
   "metadata": {
    "papermill": {
     "duration": 0.00217,
     "end_time": "2023-01-20T03:46:51.311163",
     "exception": false,
     "start_time": "2023-01-20T03:46:51.308993",
     "status": "completed"
    },
    "tags": []
   },
   "source": [
    "# Show current path"
   ]
  },
  {
   "cell_type": "code",
   "execution_count": 2,
   "id": "62c3d0b4",
   "metadata": {
    "execution": {
     "iopub.execute_input": "2023-01-20T03:46:51.317246Z",
     "iopub.status.busy": "2023-01-20T03:46:51.316867Z",
     "iopub.status.idle": "2023-01-20T03:46:52.411471Z",
     "shell.execute_reply": "2023-01-20T03:46:52.409937Z"
    },
    "papermill": {
     "duration": 1.100986,
     "end_time": "2023-01-20T03:46:52.414480",
     "exception": false,
     "start_time": "2023-01-20T03:46:51.313494",
     "status": "completed"
    },
    "tags": []
   },
   "outputs": [
    {
     "name": "stdout",
     "output_type": "stream",
     "text": [
      "/kaggle/working\r\n"
     ]
    }
   ],
   "source": [
    "!pwd"
   ]
  },
  {
   "cell_type": "code",
   "execution_count": 3,
   "id": "e2ad6140",
   "metadata": {
    "execution": {
     "iopub.execute_input": "2023-01-20T03:46:52.421771Z",
     "iopub.status.busy": "2023-01-20T03:46:52.421327Z",
     "iopub.status.idle": "2023-01-20T03:47:05.368363Z",
     "shell.execute_reply": "2023-01-20T03:47:05.366646Z"
    },
    "papermill": {
     "duration": 12.954006,
     "end_time": "2023-01-20T03:47:05.371238",
     "exception": false,
     "start_time": "2023-01-20T03:46:52.417232",
     "status": "completed"
    },
    "tags": []
   },
   "outputs": [],
   "source": [
    "# Make sure we've got the latest version of fastai:\n",
    "!pip install -Uqq fastai"
   ]
  },
  {
   "cell_type": "code",
   "execution_count": 4,
   "id": "5d2cd4cf",
   "metadata": {
    "execution": {
     "iopub.execute_input": "2023-01-20T03:47:05.378738Z",
     "iopub.status.busy": "2023-01-20T03:47:05.377835Z",
     "iopub.status.idle": "2023-01-20T03:47:08.791741Z",
     "shell.execute_reply": "2023-01-20T03:47:08.790327Z"
    },
    "papermill": {
     "duration": 3.420693,
     "end_time": "2023-01-20T03:47:08.794556",
     "exception": false,
     "start_time": "2023-01-20T03:47:05.373863",
     "status": "completed"
    },
    "tags": []
   },
   "outputs": [],
   "source": [
    "# fastai.vision.all is a module that contains all the functions and classes we need for computer vision tasks.\n",
    "from fastai.vision.all import *"
   ]
  },
  {
   "cell_type": "markdown",
   "id": "7f69e5e5",
   "metadata": {
    "papermill": {
     "duration": 0.00225,
     "end_time": "2023-01-20T03:47:08.799538",
     "exception": false,
     "start_time": "2023-01-20T03:47:08.797288",
     "status": "completed"
    },
    "tags": []
   },
   "source": [
    "# 👇 notes \n",
    "- `untar_data` is a function that downloads and extracts the data from the URL. \n",
    "- `URLs.PETS` is a constant that contains the URL of the data we want to download. `path` is a variable that contains the path to the data. Urls.pet can be found in the fastai library. - The /'images' is a path to the images folder. \n",
    "\n",
    "Instead of PET there are other datasets that can be used such as MNIST, CIFAR, etc. In which case you can replace the URLs.PETS with the other datasets. For example: \n",
    "`path = untar_data(URLs.MNIST)/'images'`"
   ]
  },
  {
   "cell_type": "code",
   "execution_count": null,
   "id": "f94fe30e",
   "metadata": {
    "papermill": {
     "duration": 0.002126,
     "end_time": "2023-01-20T03:47:08.804069",
     "exception": false,
     "start_time": "2023-01-20T03:47:08.801943",
     "status": "completed"
    },
    "tags": []
   },
   "outputs": [],
   "source": []
  }
 ],
 "metadata": {
  "kernelspec": {
   "display_name": "Python 3",
   "language": "python",
   "name": "python3"
  },
  "language_info": {
   "codemirror_mode": {
    "name": "ipython",
    "version": 3
   },
   "file_extension": ".py",
   "mimetype": "text/x-python",
   "name": "python",
   "nbconvert_exporter": "python",
   "pygments_lexer": "ipython3",
   "version": "3.7.12"
  },
  "papermill": {
   "default_parameters": {},
   "duration": 27.045726,
   "end_time": "2023-01-20T03:47:09.828673",
   "environment_variables": {},
   "exception": null,
   "input_path": "__notebook__.ipynb",
   "output_path": "__notebook__.ipynb",
   "parameters": {},
   "start_time": "2023-01-20T03:46:42.782947",
   "version": "2.3.4"
  }
 },
 "nbformat": 4,
 "nbformat_minor": 5
}
