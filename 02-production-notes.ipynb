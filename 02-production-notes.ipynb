{
 "cells": [
  {
   "cell_type": "markdown",
   "id": "2ade9264",
   "metadata": {
    "papermill": {
     "duration": 0.004969,
     "end_time": "2023-02-01T04:01:13.489958",
     "exception": false,
     "start_time": "2023-02-01T04:01:13.484989",
     "status": "completed"
    },
    "tags": []
   },
   "source": [
    "# **🔬🧫🦠 wip ...**"
   ]
  },
  {
   "cell_type": "markdown",
   "id": "5a3e3bb6",
   "metadata": {
    "papermill": {
     "duration": 0.003568,
     "end_time": "2023-02-01T04:01:13.497401",
     "exception": false,
     "start_time": "2023-02-01T04:01:13.493833",
     "status": "completed"
    },
    "tags": []
   },
   "source": [
    "# Install Required Packages for Kaggle Notebook Environment\n",
    "\n",
    "\n",
    "\n"
   ]
  },
  {
   "cell_type": "code",
   "execution_count": 1,
   "id": "f59e4a16",
   "metadata": {
    "_cell_guid": "b1076dfc-b9ad-4769-8c92-a6c4dae69d19",
    "_uuid": "8f2839f25d086af736a60e9eeb907d3b93b6e0e5",
    "execution": {
     "iopub.execute_input": "2023-02-01T04:01:13.507010Z",
     "iopub.status.busy": "2023-02-01T04:01:13.506520Z",
     "iopub.status.idle": "2023-02-01T04:01:27.288251Z",
     "shell.execute_reply": "2023-02-01T04:01:27.287016Z"
    },
    "papermill": {
     "duration": 13.790637,
     "end_time": "2023-02-01T04:01:27.291749",
     "exception": false,
     "start_time": "2023-02-01T04:01:13.501112",
     "status": "completed"
    },
    "tags": []
   },
   "outputs": [],
   "source": [
    "import os\n",
    "iskaggle = os.environ.get('KAGGLE_KERNEL_RUN_TYPE', '')\n",
    "\n",
    "if iskaggle:\n",
    "    !pip install -Uqq fastai duckduckgo_search fastcore"
   ]
  },
  {
   "cell_type": "markdown",
   "id": "eb2cd39d",
   "metadata": {
    "papermill": {
     "duration": 0.005937,
     "end_time": "2023-02-01T04:01:27.305287",
     "exception": false,
     "start_time": "2023-02-01T04:01:27.299350",
     "status": "completed"
    },
    "tags": []
   },
   "source": [
    "- The first line imports the `os` module, which provides a way of using operating system dependent functionality.\n",
    "- The second line checks if the environment variable `KAGGLE_KERNEL_RUN_TYPE` is set.\n",
    "    - The `environ` attribute is a dictionary-like object that represents the environment variables, and the get method is used to retrieve the value of the `KAGGLE_KERNEL_RUN_TYPE` variable.\n",
    "    - If the variable is not set, an empty string is returned.\n",
    "    - The result is stored in the `iskaggle` variable.\n",
    "- The third line is an if statement that checks if the `iskaggle` variable is truthy.\n",
    "    - If it is, the line following the if statement uses the `!` operator to run a shell command to install the `fastai`, `duckduckgo_search` and `fastcore` packages via `pip` with the `-Uqq` flags.\n",
    "    - `-U` tells pip to upgrade any already installed packages\n",
    "    - `qq` says to run the installation command in \"quiet\" mode, meaning no output will be displayed."
   ]
  },
  {
   "cell_type": "markdown",
   "id": "54ac68c8",
   "metadata": {
    "papermill": {
     "duration": 0.005751,
     "end_time": "2023-02-01T04:01:27.318112",
     "exception": false,
     "start_time": "2023-02-01T04:01:27.312361",
     "status": "completed"
    },
    "tags": []
   },
   "source": [
    "# Import Required Libraries"
   ]
  },
  {
   "cell_type": "code",
   "execution_count": 2,
   "id": "99a1eb2f",
   "metadata": {
    "execution": {
     "iopub.execute_input": "2023-02-01T04:01:27.329110Z",
     "iopub.status.busy": "2023-02-01T04:01:27.327894Z",
     "iopub.status.idle": "2023-02-01T04:01:31.984534Z",
     "shell.execute_reply": "2023-02-01T04:01:31.983037Z"
    },
    "papermill": {
     "duration": 4.665181,
     "end_time": "2023-02-01T04:01:31.987438",
     "exception": false,
     "start_time": "2023-02-01T04:01:27.322257",
     "status": "completed"
    },
    "tags": []
   },
   "outputs": [],
   "source": [
    "from fastai.vision.all import * \n",
    "from fastcore.all import *\n",
    "from duckduckgo_search import ddg_images\n",
    "from fastdownload import download_url\n",
    "from PIL import Image"
   ]
  },
  {
   "cell_type": "markdown",
   "id": "876c47f2",
   "metadata": {
    "papermill": {
     "duration": 0.003519,
     "end_time": "2023-02-01T04:01:31.994905",
     "exception": false,
     "start_time": "2023-02-01T04:01:31.991386",
     "status": "completed"
    },
    "tags": []
   },
   "source": [
    "- `import fastai` # fastai is the main library\n",
    "- `import fastcore` # fastcore is a dependency of fastai that contains some useful functions such as L, Path, get_files, get_image_files, verify_images, etc. It is imported when you import fastai.\n",
    "- `import duckduckgo_search` # duckduckgo_search is a dependency of fastdownload and is used to download the images for the dataset. It cointains a function called ddg_images that lets you search for images on duckduckgo and download them in bulk.\n",
    "- `import fastdownload` # fastdownload is a dependency of fastai that contains a function called download_url that lets you download a file from a url. Another function called download_images lets you download images from a url in bulk. `download_images` is in the fastai library but it is not as flexible as download_url because     it only works with urls that end in .jpg, .png, .jpeg, .bmp, .gif, etc. `download_url` can download any file from a url.\n",
    "- `from PIL import Image` # Imports the Python Image Library (PIL) from `fastai.vision.core`. Used for opening, displaying, and manipulating images, such as resizing and obtaining width and height."
   ]
  },
  {
   "cell_type": "markdown",
   "id": "abfc10bf",
   "metadata": {
    "papermill": {
     "duration": 0.003441,
     "end_time": "2023-02-01T04:01:32.002089",
     "exception": false,
     "start_time": "2023-02-01T04:01:31.998648",
     "status": "completed"
    },
    "tags": []
   },
   "source": [
    "## 🤖 testing ...\n",
    "Test if all imports are successful\n"
   ]
  },
  {
   "cell_type": "code",
   "execution_count": 3,
   "id": "38da5a57",
   "metadata": {
    "execution": {
     "iopub.execute_input": "2023-02-01T04:01:32.011783Z",
     "iopub.status.busy": "2023-02-01T04:01:32.011077Z",
     "iopub.status.idle": "2023-02-01T04:01:32.019429Z",
     "shell.execute_reply": "2023-02-01T04:01:32.018265Z"
    },
    "papermill": {
     "duration": 0.017698,
     "end_time": "2023-02-01T04:01:32.023553",
     "exception": false,
     "start_time": "2023-02-01T04:01:32.005855",
     "status": "completed"
    },
    "tags": []
   },
   "outputs": [
    {
     "name": "stdout",
     "output_type": "stream",
     "text": [
      "fastai version: 2.7.10\n",
      "fastcore version: 1.5.27\n",
      "duckduckgo_search version: 2.8.0\n",
      "fastdownload version: 0.0.7\n",
      "PIL version: 9.1.1\n",
      "Success! All imports were successful.\n"
     ]
    }
   ],
   "source": [
    "# Test if all imports are successful\n",
    "def test_imports():\n",
    "    try:\n",
    "        import fastai\n",
    "        import fastcore\n",
    "        import duckduckgo_search\n",
    "        import fastdownload\n",
    "        import PIL\n",
    "    except ImportError as e:\n",
    "        print(f'Import failed: {e}')\n",
    "        return\n",
    "\n",
    "    print(f'fastai version: {fastai.__version__}')\n",
    "    print(f'fastcore version: {fastcore.__version__}')\n",
    "    print(f'duckduckgo_search version: {duckduckgo_search.__version__}')\n",
    "    print(f'fastdownload version: {fastdownload.__version__}')\n",
    "    print(f'PIL version: {PIL.__version__}')\n",
    "    print('Success! All imports were successful.')\n",
    "\n",
    "\n",
    "test_imports()"
   ]
  },
  {
   "cell_type": "markdown",
   "id": "9f3b8c18",
   "metadata": {
    "papermill": {
     "duration": 0.003579,
     "end_time": "2023-02-01T04:01:32.031054",
     "exception": false,
     "start_time": "2023-02-01T04:01:32.027475",
     "status": "completed"
    },
    "tags": []
   },
   "source": [
    "## 🤖 testing ...\n",
    "Test the `ddg_images` function with a simple search"
   ]
  },
  {
   "cell_type": "code",
   "execution_count": 4,
   "id": "5e08aa21",
   "metadata": {
    "execution": {
     "iopub.execute_input": "2023-02-01T04:01:32.040574Z",
     "iopub.status.busy": "2023-02-01T04:01:32.039808Z",
     "iopub.status.idle": "2023-02-01T04:01:33.053174Z",
     "shell.execute_reply": "2023-02-01T04:01:33.051783Z"
    },
    "papermill": {
     "duration": 1.021053,
     "end_time": "2023-02-01T04:01:33.055827",
     "exception": false,
     "start_time": "2023-02-01T04:01:32.034774",
     "status": "completed"
    },
    "tags": []
   },
   "outputs": [
    {
     "name": "stdout",
     "output_type": "stream",
     "text": [
      "Success! Here are some URLs:\n",
      "[{'title': 'Growing Puppies - Virginia Schnoodle Breeder --Hypoallergenic Dogs ...', 'image': 'http://3.bp.blogspot.com/-Mhi9-ZMEhe4/Tn45U94kHgI/AAAAAAAABUY/Bl0_EeZdkX0/s1600/Remy+2.jpg', 'thumbnail': 'https://tse2.mm.bing.net/th?id=OIP.Znu80HgKY-0E03oWqPFIJAHaJz&pid=Api', 'url': 'http://growingpuppies.blogspot.com/p/about-breed.html', 'height': 1600, 'width': 1208, 'source': 'Bing'}, {'title': 'Schnoodle Dog Breed Information Photos, History and Care Advice', 'image': 'https://topdogtips.com/wp-content/uploads/2017/05/Schnoodle-Dog-Breed.jpg', 'thumbnail': 'https://tse3.mm.bing.net/th?id=OIP.O8Rvr-ys-6wLbfXiSOI18gHaEX&pid=Api', 'url': 'https://topdogtips.com/schnoodle-dog-breed/', 'height': 601, 'width': 1021, 'source': 'Bing'}, {'title': 'Growing Puppies - Virginia Schnoodle Breeder --Hypoallergenic Dogs ...', 'image': 'https://4.bp.blogspot.com/-tQ9Ji1Fwhns/VZqj1zPy-vI/AAAAAAAAFGU/9mPN8MzHfYw/s1600/IMG_2544.JPG', 'thumbnail': 'https://tse1.mm.bing.net/th?id=OIP.JF2LZ2A0urzsnqD82381OAHaId&pid=Api', 'url': 'https://growingpuppies.blogspot.com/2015/07/more-7-week-schnoodle-puppy-photos.html', 'height': 1600, 'width': 1401, 'source': 'Bing'}]\n"
     ]
    }
   ],
   "source": [
    "def test_ddg_images(term, max_images):\n",
    "    # Call ddg_Images with search term and max results\n",
    "    urls = ddg_images(term, max_results=max_images)\n",
    "\n",
    "    # Print success message and URLs if images are found\n",
    "    if urls:\n",
    "        print('Success! Here are some URLs:')\n",
    "        print(urls[:3])\n",
    "    else:\n",
    "        print('Fail! No images found.')\n",
    "\n",
    "# Test the function with a simple search\n",
    "test_ddg_images('Schoondle dog photos', 3)"
   ]
  },
  {
   "cell_type": "markdown",
   "id": "704308cc",
   "metadata": {
    "papermill": {
     "duration": 0.003697,
     "end_time": "2023-02-01T04:01:33.063629",
     "exception": false,
     "start_time": "2023-02-01T04:01:33.059932",
     "status": "completed"
    },
    "tags": []
   },
   "source": [
    "## 🏓 notes: \n",
    " - The `max_results` is the maximum number of images to return. \n",
    " - It is a `fastai parameter` of the `ddg_images` function\n",
    " - The `max_results` parameter is optional.\n",
    " - If you do not set the `max_results` parameter, the default is 100.\n",
    " - `max_results` takes an **integer** value. "
   ]
  },
  {
   "cell_type": "markdown",
   "id": "05ed0485",
   "metadata": {
    "papermill": {
     "duration": 0.003684,
     "end_time": "2023-02-01T04:01:33.071227",
     "exception": false,
     "start_time": "2023-02-01T04:01:33.067543",
     "status": "completed"
    },
    "tags": []
   },
   "source": [
    "----------------"
   ]
  },
  {
   "cell_type": "markdown",
   "id": "bd3f247f",
   "metadata": {
    "papermill": {
     "duration": 0.003623,
     "end_time": "2023-02-01T04:01:33.078831",
     "exception": false,
     "start_time": "2023-02-01T04:01:33.075208",
     "status": "completed"
    },
    "tags": []
   },
   "source": [
    "## 🤖 testing ... \n",
    "Test if the `download_url` function is working"
   ]
  },
  {
   "cell_type": "code",
   "execution_count": 5,
   "id": "4d953fc1",
   "metadata": {
    "execution": {
     "iopub.execute_input": "2023-02-01T04:01:33.088964Z",
     "iopub.status.busy": "2023-02-01T04:01:33.087920Z",
     "iopub.status.idle": "2023-02-01T04:01:33.445339Z",
     "shell.execute_reply": "2023-02-01T04:01:33.443590Z"
    },
    "papermill": {
     "duration": 0.365056,
     "end_time": "2023-02-01T04:01:33.447780",
     "exception": false,
     "start_time": "2023-02-01T04:01:33.082724",
     "status": "completed"
    },
    "tags": []
   },
   "outputs": [
    {
     "data": {
      "text/html": [
       "\n",
       "<style>\n",
       "    /* Turns off some styling */\n",
       "    progress {\n",
       "        /* gets rid of default border in Firefox and Opera. */\n",
       "        border: none;\n",
       "        /* Needs to be in here for Safari polyfill so background images work as expected. */\n",
       "        background-size: auto;\n",
       "    }\n",
       "    progress:not([value]), progress:not([value])::-webkit-progress-bar {\n",
       "        background: repeating-linear-gradient(45deg, #7e7e7e, #7e7e7e 10px, #5c5c5c 10px, #5c5c5c 20px);\n",
       "    }\n",
       "    .progress-bar-interrupted, .progress-bar-interrupted::-webkit-progress-bar {\n",
       "        background: #F44336;\n",
       "    }\n",
       "</style>\n"
      ],
      "text/plain": [
       "<IPython.core.display.HTML object>"
      ]
     },
     "metadata": {},
     "output_type": "display_data"
    },
    {
     "data": {
      "text/html": [
       "\n",
       "    <div>\n",
       "      <progress value='237568' class='' max='233024' style='width:300px; height:20px; vertical-align: middle;'></progress>\n",
       "      101.95% [237568/233024 00:00&lt;00:00]\n",
       "    </div>\n",
       "    "
      ],
      "text/plain": [
       "<IPython.core.display.HTML object>"
      ]
     },
     "metadata": {},
     "output_type": "display_data"
    },
    {
     "name": "stdout",
     "output_type": "stream",
     "text": [
      "Success! File downloaded.\n"
     ]
    },
    {
     "data": {
      "image/png": "[encoded data removed]",
      "text/plain": [
       "<PIL.Image.Image image mode=RGB size=97x128>"
      ]
     },
     "execution_count": 5,
     "metadata": {},
     "output_type": "execute_result"
    }
   ],
   "source": [
    "# Test if the download_url function is working\n",
    "\n",
    "def test_download_url(url, dest):\n",
    "    # Call download_url with URL and destination\n",
    "    download_url(url, dest)\n",
    "\n",
    "    # Print success message if download was successful\n",
    "    if os.path.exists(dest):\n",
    "        print('Success! File downloaded.')\n",
    "    else:\n",
    "        print('Fail! File not downloaded.')\n",
    "\n",
    "# Test the function with a simple URL (copy url from previous step)\n",
    "test_download_url('http://3.bp.blogspot.com/-Mhi9-ZMEhe4/Tn45U94kHgI/AAAAAAAABUY/Bl0_EeZdkX0/s1600/Remy+2.jpg', 'test_image.jpg')\n",
    "\n",
    "# open downloaded image\n",
    "im = Image.open('test_image.jpg')\n",
    "im.to_thumb(128,128)"
   ]
  }
 ],
 "metadata": {
  "kernelspec": {
   "display_name": "Python 3",
   "language": "python",
   "name": "python3"
  },
  "language_info": {
   "codemirror_mode": {
    "name": "ipython",
    "version": 3
   },
   "file_extension": ".py",
   "mimetype": "text/x-python",
   "name": "python",
   "nbconvert_exporter": "python",
   "pygments_lexer": "ipython3",
   "version": "3.7.12"
  },
  "papermill": {
   "default_parameters": {},
   "duration": 29.413225,
   "end_time": "2023-02-01T04:01:34.575955",
   "environment_variables": {},
   "exception": null,
   "input_path": "__notebook__.ipynb",
   "output_path": "__notebook__.ipynb",
   "parameters": {},
   "start_time": "2023-02-01T04:01:05.162730",
   "version": "2.3.4"
  }
 },
 "nbformat": 4,
 "nbformat_minor": 5
}
