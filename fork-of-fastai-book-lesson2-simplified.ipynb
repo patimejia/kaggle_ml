{
 "cells": [
  {
   "attachments": {},
   "cell_type": "markdown",
   "id": "2aa1b73a",
   "metadata": {},
   "source": [
    "# Install latest version of fastai"
   ]
  },
  {
   "cell_type": "code",
   "execution_count": null,
   "id": "7efaeeff",
   "metadata": {},
   "outputs": [],
   "source": [
    "# Install latest version of fastai\n",
    "!pip install -Uqq fastai"
   ]
  },
  {
   "attachments": {},
   "cell_type": "markdown",
   "id": "0dbebd43",
   "metadata": {},
   "source": [
    "# Import fastai library and all its submodules (e.g. fastai.vision.all)\n",
    "Import all submodules of vision module (e.g. widgets, data, core,\n"
   ]
  },
  {
   "cell_type": "code",
   "execution_count": 1,
   "id": "00eecef1",
   "metadata": {},
   "outputs": [
    {
     "ename": "ModuleNotFoundError",
     "evalue": "No module named 'fastai'",
     "output_type": "error",
     "traceback": [
      "\u001b[0;31m---------------------------------------------------------------------------\u001b[0m",
      "\u001b[0;31mModuleNotFoundError\u001b[0m                       Traceback (most recent call last)",
      "Cell \u001b[0;32mIn [1], line 1\u001b[0m\n\u001b[0;32m----> 1\u001b[0m \u001b[39mfrom\u001b[39;00m \u001b[39mfastai\u001b[39;00m\u001b[39m.\u001b[39;00m\u001b[39mvision\u001b[39;00m\u001b[39m.\u001b[39;00m\u001b[39mall\u001b[39;00m \u001b[39mimport\u001b[39;00m \u001b[39m*\u001b[39m\n\u001b[1;32m      2\u001b[0m \u001b[39mfrom\u001b[39;00m \u001b[39mfastai\u001b[39;00m\u001b[39m.\u001b[39;00m\u001b[39mvision\u001b[39;00m\u001b[39m.\u001b[39;00m\u001b[39mwidgets\u001b[39;00m \u001b[39mimport\u001b[39;00m \u001b[39m*\u001b[39m\n\u001b[1;32m      3\u001b[0m \u001b[39mfrom\u001b[39;00m \u001b[39mfastai\u001b[39;00m\u001b[39m.\u001b[39;00m\u001b[39mvision\u001b[39;00m\u001b[39m.\u001b[39;00m\u001b[39mcore\u001b[39;00m \u001b[39mimport\u001b[39;00m \u001b[39m*\u001b[39m\n",
      "\u001b[0;31mModuleNotFoundError\u001b[0m: No module named 'fastai'"
     ]
    }
   ],
   "source": [
    "# Import all submodules of vision module (e.g. widgets, data, core,\n",
    "from fastai.vision.all import * "
   ]
  },
  {
   "cell_type": "code",
   "execution_count": null,
   "id": "70408cfe",
   "metadata": {},
   "outputs": [],
   "source": [
    "# allow duck duck go search\n",
    "from fastai.vision.widgets import *\n",
    "\n",
    "# Create a path object to the folder containing the images\n",
    "path = Path()\n",
    "\n",
    "\n",
    "# to run `search_images_ddg` first run `pip install bing-image-downloader` (but for ddg) and then run `pip install git+\n",
    "!pip install git+"
   ]
  }
 ],
 "metadata": {
  "kernelspec": {
   "display_name": "Python 3",
   "language": "python",
   "name": "python3"
  },
  "language_info": {
   "codemirror_mode": {
    "name": "ipython",
    "version": 3
   },
   "file_extension": ".py",
   "mimetype": "text/x-python",
   "name": "python",
   "nbconvert_exporter": "python",
   "pygments_lexer": "ipython3",
   "version": "3.10.9 (main, Dec 15 2022, 18:33:08) [Clang 13.0.0 (clang-1300.0.29.30)]"
  },
  "papermill": {
   "default_parameters": {},
   "duration": 11.925918,
   "end_time": "2023-01-23T16:22:00.335720",
   "environment_variables": {},
   "exception": null,
   "input_path": "__notebook__.ipynb",
   "output_path": "__notebook__.ipynb",
   "parameters": {},
   "start_time": "2023-01-23T16:21:48.409802",
   "version": "2.3.4"
  },
  "vscode": {
   "interpreter": {
    "hash": "b0fa6594d8f4cbf19f97940f81e996739fb7646882a419484c72d19e05852a7e"
   }
  }
 },
 "nbformat": 4,
 "nbformat_minor": 5
}
