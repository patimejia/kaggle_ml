{
 "cells": [
  {
   "attachments": {},
   "cell_type": "markdown",
   "id": "2aa1b73a",
   "metadata": {},
   "source": [
    "# Install latest version of fastai"
   ]
  },
  {
   "cell_type": "code",
   "execution_count": null,
   "id": "7efaeeff",
   "metadata": {},
   "outputs": [],
   "source": [
    "# Install latest version of fastai\n",
    "!pip install -Uqq fastai\n",
    "\n"
   ]
  }
 ],
 "metadata": {
  "kernelspec": {
   "display_name": "Python 3",
   "language": "python",
   "name": "python3"
  },
  "language_info": {
   "codemirror_mode": {
    "name": "ipython",
    "version": 3
   },
   "file_extension": ".py",
   "mimetype": "text/x-python",
   "name": "python",
   "nbconvert_exporter": "python",
   "pygments_lexer": "ipython3",
   "version": "3.10.9"
  },
  "papermill": {
   "default_parameters": {},
   "duration": 11.925918,
   "end_time": "2023-01-23T16:22:00.335720",
   "environment_variables": {},
   "exception": null,
   "input_path": "__notebook__.ipynb",
   "output_path": "__notebook__.ipynb",
   "parameters": {},
   "start_time": "2023-01-23T16:21:48.409802",
   "version": "2.3.4"
  },
  "vscode": {
   "interpreter": {
    "hash": "b0fa6594d8f4cbf19f97940f81e996739fb7646882a419484c72d19e05852a7e"
   }
  }
 },
 "nbformat": 4,
 "nbformat_minor": 5
}
