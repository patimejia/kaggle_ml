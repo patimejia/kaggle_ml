{
 "cells": [
  {
   "cell_type": "markdown",
   "id": "34a6e18b",
   "metadata": {
    "papermill": {
     "duration": 0.005628,
     "end_time": "2022-10-02T02:20:30.559812",
     "exception": false,
     "start_time": "2022-10-02T02:20:30.554184",
     "status": "completed"
    },
    "tags": []
   },
   "source": [
    "**This notebook is an exercise in the [Introduction to Machine Learning](https://www.kaggle.com/learn/intro-to-machine-learning) course.  You can reference the tutorial at [this link](https://www.kaggle.com/dansbecker/your-first-machine-learning-model).**\n",
    "\n",
    "---\n"
   ]
  },
  {
   "cell_type": "markdown",
   "id": "60360b67",
   "metadata": {
    "papermill": {
     "duration": 0.004282,
     "end_time": "2022-10-02T02:20:30.568723",
     "exception": false,
     "start_time": "2022-10-02T02:20:30.564441",
     "status": "completed"
    },
    "tags": []
   },
   "source": [
    "## Recap\n",
    "So far, you have loaded your data and reviewed it with the following code. Run this cell to set up your coding environment where the previous step left off."
   ]
  },
  {
   "cell_type": "code",
   "execution_count": 3,
   "id": "41a6ff7d",
   "metadata": {
    "execution": {
     "iopub.execute_input": "2022-10-02T02:20:30.579706Z",
     "iopub.status.busy": "2022-10-02T02:20:30.579101Z",
     "iopub.status.idle": "2022-10-02T02:20:31.669750Z",
     "shell.execute_reply": "2022-10-02T02:20:31.668503Z"
    },
    "papermill": {
     "duration": 1.099431,
     "end_time": "2022-10-02T02:20:31.672668",
     "exception": false,
     "start_time": "2022-10-02T02:20:30.573237",
     "status": "completed"
    },
    "tags": []
   },
   "outputs": [
    {
     "name": "stdout",
     "output_type": "stream",
     "text": [
      "Setup Complete\n"
     ]
    }
   ],
   "source": [
    "# Code you have previously used to load data\n",
    "import pandas as pd\n",
    "\n",
    "# Path of the file to read\n",
    "iowa_file_path = './input/hospital-readmissions/train.csv'\n",
    "\n",
    "home_data = pd.read_csv(iowa_file_path)\n",
    "\n",
    "print(\"Setup Complete\")"
   ]
  },
  {
   "cell_type": "markdown",
   "id": "92d96f40",
   "metadata": {
    "papermill": {
     "duration": 0.004542,
     "end_time": "2022-10-02T02:20:31.682330",
     "exception": false,
     "start_time": "2022-10-02T02:20:31.677788",
     "status": "completed"
    },
    "tags": []
   },
   "source": [
    "# Exercises\n",
    "\n",
    "## Step 1: Specify Prediction Target\n",
    "Select the target variable, which corresponds to the sales price. Save this to a new variable called `y`. You'll need to print a list of the columns to find the name of the column you need.\n"
   ]
  },
  {
   "cell_type": "code",
   "execution_count": 4,
   "id": "c3d307f8",
   "metadata": {
    "execution": {
     "iopub.execute_input": "2022-10-02T02:20:31.693273Z",
     "iopub.status.busy": "2022-10-02T02:20:31.692948Z",
     "iopub.status.idle": "2022-10-02T02:20:31.701645Z",
     "shell.execute_reply": "2022-10-02T02:20:31.700587Z"
    },
    "papermill": {
     "duration": 0.017605,
     "end_time": "2022-10-02T02:20:31.704628",
     "exception": false,
     "start_time": "2022-10-02T02:20:31.687023",
     "status": "completed"
    },
    "tags": []
   },
   "outputs": [
    {
     "data": {
      "text/plain": [
       "Index(['time_in_hospital', 'num_lab_procedures', 'num_procedures',\n",
       "       'num_medications', 'number_outpatient', 'number_emergency',\n",
       "       'number_inpatient', 'number_diagnoses', 'race_Caucasian',\n",
       "       'race_AfricanAmerican', 'gender_Female', 'age_[70-80)', 'age_[60-70)',\n",
       "       'age_[50-60)', 'age_[80-90)', 'age_[40-50)', 'payer_code_?',\n",
       "       'payer_code_MC', 'payer_code_HM', 'payer_code_SP', 'payer_code_BC',\n",
       "       'medical_specialty_?', 'medical_specialty_InternalMedicine',\n",
       "       'medical_specialty_Emergency/Trauma',\n",
       "       'medical_specialty_Family/GeneralPractice',\n",
       "       'medical_specialty_Cardiology', 'diag_1_428', 'diag_1_414',\n",
       "       'diag_1_786', 'diag_2_276', 'diag_2_428', 'diag_2_250', 'diag_2_427',\n",
       "       'diag_3_250', 'diag_3_401', 'diag_3_276', 'diag_3_428',\n",
       "       'max_glu_serum_None', 'A1Cresult_None', 'metformin_No',\n",
       "       'repaglinide_No', 'nateglinide_No', 'chlorpropamide_No',\n",
       "       'glimepiride_No', 'acetohexamide_No', 'glipizide_No', 'glyburide_No',\n",
       "       'tolbutamide_No', 'pioglitazone_No', 'rosiglitazone_No', 'acarbose_No',\n",
       "       'miglitol_No', 'troglitazone_No', 'tolazamide_No', 'examide_No',\n",
       "       'citoglipton_No', 'insulin_No', 'glyburide-metformin_No',\n",
       "       'glipizide-metformin_No', 'glimepiride-pioglitazone_No',\n",
       "       'metformin-rosiglitazone_No', 'metformin-pioglitazone_No', 'change_No',\n",
       "       'diabetesMed_Yes', 'readmitted'],\n",
       "      dtype='object')"
      ]
     },
     "execution_count": 4,
     "metadata": {},
     "output_type": "execute_result"
    }
   ],
   "source": [
    "# print the list of columns in the dataset to find the name of the prediction target\n",
    "home_data.columns\n"
   ]
  },
  {
   "cell_type": "code",
   "execution_count": 6,
   "id": "53ebf076",
   "metadata": {
    "execution": {
     "iopub.execute_input": "2022-10-02T02:20:31.717156Z",
     "iopub.status.busy": "2022-10-02T02:20:31.716770Z",
     "iopub.status.idle": "2022-10-02T02:20:31.732960Z",
     "shell.execute_reply": "2022-10-02T02:20:31.731629Z"
    },
    "papermill": {
     "duration": 0.024723,
     "end_time": "2022-10-02T02:20:31.735068",
     "exception": false,
     "start_time": "2022-10-02T02:20:31.710345",
     "status": "completed"
    },
    "tags": []
   },
   "outputs": [
    {
     "ename": "AttributeError",
     "evalue": "'DataFrame' object has no attribute 'SalePrice'",
     "output_type": "error",
     "traceback": [
      "\u001b[0;31m---------------------------------------------------------------------------\u001b[0m",
      "\u001b[0;31mAttributeError\u001b[0m                            Traceback (most recent call last)",
      "Cell \u001b[0;32mIn [6], line 1\u001b[0m\n\u001b[0;32m----> 1\u001b[0m y \u001b[39m=\u001b[39m home_data\u001b[39m.\u001b[39;49mSalePrice\n\u001b[1;32m      3\u001b[0m \u001b[39mprint\u001b[39m(y)\n",
      "File \u001b[0;32m~/opt/anaconda3/envs/py3/lib/python3.10/site-packages/pandas/core/generic.py:5902\u001b[0m, in \u001b[0;36mNDFrame.__getattr__\u001b[0;34m(self, name)\u001b[0m\n\u001b[1;32m   5895\u001b[0m \u001b[39mif\u001b[39;00m (\n\u001b[1;32m   5896\u001b[0m     name \u001b[39mnot\u001b[39;00m \u001b[39min\u001b[39;00m \u001b[39mself\u001b[39m\u001b[39m.\u001b[39m_internal_names_set\n\u001b[1;32m   5897\u001b[0m     \u001b[39mand\u001b[39;00m name \u001b[39mnot\u001b[39;00m \u001b[39min\u001b[39;00m \u001b[39mself\u001b[39m\u001b[39m.\u001b[39m_metadata\n\u001b[1;32m   5898\u001b[0m     \u001b[39mand\u001b[39;00m name \u001b[39mnot\u001b[39;00m \u001b[39min\u001b[39;00m \u001b[39mself\u001b[39m\u001b[39m.\u001b[39m_accessors\n\u001b[1;32m   5899\u001b[0m     \u001b[39mand\u001b[39;00m \u001b[39mself\u001b[39m\u001b[39m.\u001b[39m_info_axis\u001b[39m.\u001b[39m_can_hold_identifiers_and_holds_name(name)\n\u001b[1;32m   5900\u001b[0m ):\n\u001b[1;32m   5901\u001b[0m     \u001b[39mreturn\u001b[39;00m \u001b[39mself\u001b[39m[name]\n\u001b[0;32m-> 5902\u001b[0m \u001b[39mreturn\u001b[39;00m \u001b[39mobject\u001b[39;49m\u001b[39m.\u001b[39;49m\u001b[39m__getattribute__\u001b[39;49m(\u001b[39mself\u001b[39;49m, name)\n",
      "\u001b[0;31mAttributeError\u001b[0m: 'DataFrame' object has no attribute 'SalePrice'"
     ]
    }
   ],
   "source": [
    "y = home_data.SalePrice\n",
    "\n",
    "print(y)"
   ]
  },
  {
   "cell_type": "code",
   "execution_count": 4,
   "id": "0447fef2",
   "metadata": {
    "execution": {
     "iopub.execute_input": "2022-10-02T02:20:31.747068Z",
     "iopub.status.busy": "2022-10-02T02:20:31.746760Z",
     "iopub.status.idle": "2022-10-02T02:20:31.750643Z",
     "shell.execute_reply": "2022-10-02T02:20:31.749746Z"
    },
    "papermill": {
     "duration": 0.011603,
     "end_time": "2022-10-02T02:20:31.752406",
     "exception": false,
     "start_time": "2022-10-02T02:20:31.740803",
     "status": "completed"
    },
    "tags": []
   },
   "outputs": [],
   "source": [
    "# The lines below will show you a hint or the solution.\n",
    "# step_1.hint() \n",
    "# step_1.solution()"
   ]
  },
  {
   "cell_type": "markdown",
   "id": "51d14a1c",
   "metadata": {
    "papermill": {
     "duration": 0.004808,
     "end_time": "2022-10-02T02:20:31.762337",
     "exception": false,
     "start_time": "2022-10-02T02:20:31.757529",
     "status": "completed"
    },
    "tags": []
   },
   "source": []
  },
  {
   "cell_type": "markdown",
   "id": "655dd4d9",
   "metadata": {
    "papermill": {
     "duration": 0.004679,
     "end_time": "2022-10-02T02:20:31.772014",
     "exception": false,
     "start_time": "2022-10-02T02:20:31.767335",
     "status": "completed"
    },
    "tags": []
   },
   "source": [
    "## Step 2: Create X\n",
    "Now you will create a DataFrame called `X` holding the predictive features.\n",
    "\n",
    "Since you want only some columns from the original data, you'll first create a list with the names of the columns you want in `X`.\n",
    "\n",
    "You'll use just the following columns in the list (you can copy and paste the whole list to save some typing, though you'll still need to add quotes):\n",
    "  * LotArea\n",
    "  * YearBuilt\n",
    "  * 1stFlrSF\n",
    "  * 2ndFlrSF\n",
    "  * FullBath\n",
    "  * BedroomAbvGr\n",
    "  * TotRmsAbvGrd\n",
    "\n",
    "After you've created that list of features, use it to create the DataFrame that you'll use to fit the model."
   ]
  },
  {
   "cell_type": "code",
   "execution_count": 5,
   "id": "a3e7ba6c",
   "metadata": {
    "execution": {
     "iopub.execute_input": "2022-10-02T02:20:31.785021Z",
     "iopub.status.busy": "2022-10-02T02:20:31.784340Z",
     "iopub.status.idle": "2022-10-02T02:20:31.803772Z",
     "shell.execute_reply": "2022-10-02T02:20:31.802589Z"
    },
    "papermill": {
     "duration": 0.028935,
     "end_time": "2022-10-02T02:20:31.806262",
     "exception": false,
     "start_time": "2022-10-02T02:20:31.777327",
     "status": "completed"
    },
    "tags": []
   },
   "outputs": [
    {
     "name": "stdout",
     "output_type": "stream",
     "text": [
      "      LotArea  YearBuilt  1stFlrSF  2ndFlrSF  FullBath  BedroomAbvGr  \\\n",
      "0        8450       2003       856       854         2             3   \n",
      "1        9600       1976      1262         0         2             3   \n",
      "2       11250       2001       920       866         2             3   \n",
      "3        9550       1915       961       756         1             3   \n",
      "4       14260       2000      1145      1053         2             4   \n",
      "...       ...        ...       ...       ...       ...           ...   \n",
      "1455     7917       1999       953       694         2             3   \n",
      "1456    13175       1978      2073         0         2             3   \n",
      "1457     9042       1941      1188      1152         2             4   \n",
      "1458     9717       1950      1078         0         1             2   \n",
      "1459     9937       1965      1256         0         1             3   \n",
      "\n",
      "      TotRmsAbvGrd  \n",
      "0                8  \n",
      "1                6  \n",
      "2                6  \n",
      "3                7  \n",
      "4                9  \n",
      "...            ...  \n",
      "1455             7  \n",
      "1456             7  \n",
      "1457             9  \n",
      "1458             5  \n",
      "1459             6  \n",
      "\n",
      "[1460 rows x 7 columns]\n"
     ]
    },
    {
     "data": {
      "application/javascript": "parent.postMessage({\"jupyterEvent\": \"custom.exercise_interaction\", \"data\": {\"outcomeType\": 1, \"valueTowardsCompletion\": 0.25, \"interactionType\": 1, \"questionType\": 2, \"questionId\": \"2_SelectPredictionData\", \"learnToolsVersion\": \"0.3.4\", \"failureMessage\": \"\", \"exceptionClass\": \"\", \"trace\": \"\"}}, \"*\")",
      "text/plain": [
       "<IPython.core.display.Javascript object>"
      ]
     },
     "metadata": {},
     "output_type": "display_data"
    },
    {
     "data": {
      "text/markdown": [
       "<span style=\"color:#33cc33\">Correct</span>"
      ],
      "text/plain": [
       "Correct"
      ]
     },
     "metadata": {},
     "output_type": "display_data"
    }
   ],
   "source": [
    "# Create the list of features below\n",
    "feature_names = ['LotArea','YearBuilt', '1stFlrSF', '2ndFlrSF', 'FullBath', 'BedroomAbvGr', 'TotRmsAbvGrd']\n",
    "\n",
    "# Select data corresponding to features in feature_names\n",
    "X = home_data[feature_names]\n",
    "\n",
    "print(X)\n",
    "\n",
    "# Check your answer\n",
    "step_2.check()"
   ]
  },
  {
   "cell_type": "code",
   "execution_count": 6,
   "id": "544454c2",
   "metadata": {
    "execution": {
     "iopub.execute_input": "2022-10-02T02:20:31.820066Z",
     "iopub.status.busy": "2022-10-02T02:20:31.819252Z",
     "iopub.status.idle": "2022-10-02T02:20:31.823519Z",
     "shell.execute_reply": "2022-10-02T02:20:31.822468Z"
    },
    "papermill": {
     "duration": 0.012712,
     "end_time": "2022-10-02T02:20:31.825224",
     "exception": false,
     "start_time": "2022-10-02T02:20:31.812512",
     "status": "completed"
    },
    "tags": []
   },
   "outputs": [],
   "source": [
    "# step_2.hint()\n",
    "# step_2.solution()"
   ]
  },
  {
   "cell_type": "markdown",
   "id": "29685f0d",
   "metadata": {
    "papermill": {
     "duration": 0.006048,
     "end_time": "2022-10-02T02:20:31.836848",
     "exception": false,
     "start_time": "2022-10-02T02:20:31.830800",
     "status": "completed"
    },
    "tags": []
   },
   "source": [
    "## Review Data\n",
    "Before building a model, take a quick look at **X** to verify it looks sensible"
   ]
  },
  {
   "cell_type": "code",
   "execution_count": 7,
   "id": "2dbdfd9d",
   "metadata": {
    "execution": {
     "iopub.execute_input": "2022-10-02T02:20:31.848828Z",
     "iopub.status.busy": "2022-10-02T02:20:31.848487Z",
     "iopub.status.idle": "2022-10-02T02:20:31.876851Z",
     "shell.execute_reply": "2022-10-02T02:20:31.875413Z"
    },
    "papermill": {
     "duration": 0.036876,
     "end_time": "2022-10-02T02:20:31.879003",
     "exception": false,
     "start_time": "2022-10-02T02:20:31.842127",
     "status": "completed"
    },
    "tags": []
   },
   "outputs": [
    {
     "name": "stdout",
     "output_type": "stream",
     "text": [
      "X.describe():\n",
      "             LotArea    YearBuilt     1stFlrSF     2ndFlrSF     FullBath  \\\n",
      "count    1460.000000  1460.000000  1460.000000  1460.000000  1460.000000   \n",
      "mean    10516.828082  1971.267808  1162.626712   346.992466     1.565068   \n",
      "std      9981.264932    30.202904   386.587738   436.528436     0.550916   \n",
      "min      1300.000000  1872.000000   334.000000     0.000000     0.000000   \n",
      "25%      7553.500000  1954.000000   882.000000     0.000000     1.000000   \n",
      "50%      9478.500000  1973.000000  1087.000000     0.000000     2.000000   \n",
      "75%     11601.500000  2000.000000  1391.250000   728.000000     2.000000   \n",
      "max    215245.000000  2010.000000  4692.000000  2065.000000     3.000000   \n",
      "\n",
      "       BedroomAbvGr  TotRmsAbvGrd  \n",
      "count   1460.000000   1460.000000  \n",
      "mean       2.866438      6.517808  \n",
      "std        0.815778      1.625393  \n",
      "min        0.000000      2.000000  \n",
      "25%        2.000000      5.000000  \n",
      "50%        3.000000      6.000000  \n",
      "75%        3.000000      7.000000  \n",
      "max        8.000000     14.000000  \n",
      "X.head():\n",
      "   LotArea  YearBuilt  1stFlrSF  2ndFlrSF  FullBath  BedroomAbvGr  \\\n",
      "0     8450       2003       856       854         2             3   \n",
      "1     9600       1976      1262         0         2             3   \n",
      "2    11250       2001       920       866         2             3   \n",
      "3     9550       1915       961       756         1             3   \n",
      "4    14260       2000      1145      1053         2             4   \n",
      "\n",
      "   TotRmsAbvGrd  \n",
      "0             8  \n",
      "1             6  \n",
      "2             6  \n",
      "3             7  \n",
      "4             9  \n"
     ]
    }
   ],
   "source": [
    "# Review data\n",
    "# print description or statistics from X\n",
    "print('X.describe():')\n",
    "print(X.describe())\n",
    "\n",
    "# print the top few lines\n",
    "print('X.head():')\n",
    "print(X.head())"
   ]
  },
  {
   "cell_type": "markdown",
   "id": "8fd29099",
   "metadata": {
    "papermill": {
     "duration": 0.005012,
     "end_time": "2022-10-02T02:20:31.889556",
     "exception": false,
     "start_time": "2022-10-02T02:20:31.884544",
     "status": "completed"
    },
    "tags": []
   },
   "source": [
    "## Step 3: Specify and Fit Model\n",
    "Create a `DecisionTreeRegressor` and save it iowa_model. Ensure you've done the relevant import from sklearn to run this command.\n",
    "\n",
    "Then fit the model you just created using the data in `X` and `y` that you saved above."
   ]
  },
  {
   "cell_type": "code",
   "execution_count": 8,
   "id": "a3a64b1d",
   "metadata": {
    "execution": {
     "iopub.execute_input": "2022-10-02T02:20:31.901655Z",
     "iopub.status.busy": "2022-10-02T02:20:31.901312Z",
     "iopub.status.idle": "2022-10-02T02:20:31.915159Z",
     "shell.execute_reply": "2022-10-02T02:20:31.914336Z"
    },
    "papermill": {
     "duration": 0.022051,
     "end_time": "2022-10-02T02:20:31.916900",
     "exception": false,
     "start_time": "2022-10-02T02:20:31.894849",
     "status": "completed"
    },
    "tags": []
   },
   "outputs": [
    {
     "data": {
      "application/javascript": "parent.postMessage({\"jupyterEvent\": \"custom.exercise_interaction\", \"data\": {\"outcomeType\": 1, \"valueTowardsCompletion\": 0.25, \"interactionType\": 1, \"questionType\": 2, \"questionId\": \"3_CreateModel\", \"learnToolsVersion\": \"0.3.4\", \"failureMessage\": \"\", \"exceptionClass\": \"\", \"trace\": \"\"}}, \"*\")",
      "text/plain": [
       "<IPython.core.display.Javascript object>"
      ]
     },
     "metadata": {},
     "output_type": "display_data"
    },
    {
     "data": {
      "text/markdown": [
       "<span style=\"color:#33cc33\">Correct</span>"
      ],
      "text/plain": [
       "Correct"
      ]
     },
     "metadata": {},
     "output_type": "display_data"
    }
   ],
   "source": [
    "from sklearn.tree import DecisionTreeRegressor\n",
    "#specify the model. \n",
    "#For model reproducibility, set a numeric value for random_state when specifying the model\n",
    "iowa_model = DecisionTreeRegressor(random_state=1)\n",
    "\n",
    "# Fit the model\n",
    "iowa_model.fit(X, y)\n",
    "\n",
    "# Check your answer\n",
    "step_3.check()"
   ]
  },
  {
   "cell_type": "code",
   "execution_count": 9,
   "id": "649c522f",
   "metadata": {
    "execution": {
     "iopub.execute_input": "2022-10-02T02:20:31.930513Z",
     "iopub.status.busy": "2022-10-02T02:20:31.930197Z",
     "iopub.status.idle": "2022-10-02T02:20:31.933250Z",
     "shell.execute_reply": "2022-10-02T02:20:31.932681Z"
    },
    "papermill": {
     "duration": 0.012308,
     "end_time": "2022-10-02T02:20:31.935523",
     "exception": false,
     "start_time": "2022-10-02T02:20:31.923215",
     "status": "completed"
    },
    "tags": []
   },
   "outputs": [],
   "source": [
    "# step_3.hint()\n",
    "# step_3.solution()"
   ]
  },
  {
   "cell_type": "markdown",
   "id": "9491f109",
   "metadata": {
    "papermill": {
     "duration": 0.005357,
     "end_time": "2022-10-02T02:20:31.947029",
     "exception": false,
     "start_time": "2022-10-02T02:20:31.941672",
     "status": "completed"
    },
    "tags": []
   },
   "source": [
    "## Step 4: Make Predictions\n",
    "Make predictions with the model's `predict` command using `X` as the data. Save the results to a variable called `predictions`."
   ]
  },
  {
   "cell_type": "code",
   "execution_count": 10,
   "id": "3ccb2196",
   "metadata": {
    "execution": {
     "iopub.execute_input": "2022-10-02T02:20:31.960640Z",
     "iopub.status.busy": "2022-10-02T02:20:31.960080Z",
     "iopub.status.idle": "2022-10-02T02:20:31.974020Z",
     "shell.execute_reply": "2022-10-02T02:20:31.972888Z"
    },
    "papermill": {
     "duration": 0.022889,
     "end_time": "2022-10-02T02:20:31.976515",
     "exception": false,
     "start_time": "2022-10-02T02:20:31.953626",
     "status": "completed"
    },
    "tags": []
   },
   "outputs": [
    {
     "name": "stdout",
     "output_type": "stream",
     "text": [
      "[208500. 181500. 223500. ... 266500. 142125. 147500.]\n"
     ]
    },
    {
     "data": {
      "application/javascript": "parent.postMessage({\"jupyterEvent\": \"custom.exercise_interaction\", \"data\": {\"outcomeType\": 1, \"valueTowardsCompletion\": 0.25, \"interactionType\": 1, \"questionType\": 2, \"questionId\": \"4_MakePredictions\", \"learnToolsVersion\": \"0.3.4\", \"failureMessage\": \"\", \"exceptionClass\": \"\", \"trace\": \"\"}}, \"*\")",
      "text/plain": [
       "<IPython.core.display.Javascript object>"
      ]
     },
     "metadata": {},
     "output_type": "display_data"
    },
    {
     "data": {
      "text/markdown": [
       "<span style=\"color:#33cc33\">Correct</span>"
      ],
      "text/plain": [
       "Correct"
      ]
     },
     "metadata": {},
     "output_type": "display_data"
    }
   ],
   "source": [
    "predictions = iowa_model.predict(X)\n",
    "print(predictions)\n",
    "\n",
    "# Check your answer\n",
    "step_4.check()"
   ]
  },
  {
   "cell_type": "code",
   "execution_count": 11,
   "id": "666da283",
   "metadata": {
    "execution": {
     "iopub.execute_input": "2022-10-02T02:20:31.990684Z",
     "iopub.status.busy": "2022-10-02T02:20:31.990383Z",
     "iopub.status.idle": "2022-10-02T02:20:31.993328Z",
     "shell.execute_reply": "2022-10-02T02:20:31.992744Z"
    },
    "papermill": {
     "duration": 0.011551,
     "end_time": "2022-10-02T02:20:31.994921",
     "exception": false,
     "start_time": "2022-10-02T02:20:31.983370",
     "status": "completed"
    },
    "tags": []
   },
   "outputs": [],
   "source": [
    "# step_4.hint()\n",
    "# step_4.solution()"
   ]
  },
  {
   "cell_type": "markdown",
   "id": "63a8031c",
   "metadata": {
    "papermill": {
     "duration": 0.005614,
     "end_time": "2022-10-02T02:20:32.006437",
     "exception": false,
     "start_time": "2022-10-02T02:20:32.000823",
     "status": "completed"
    },
    "tags": []
   },
   "source": [
    "## Think About Your Results\n",
    "\n",
    "Use the `head` method to compare the top few predictions to the actual home values (in `y`) for those same homes. Anything surprising?\n"
   ]
  },
  {
   "cell_type": "code",
   "execution_count": 12,
   "id": "a97a84ee",
   "metadata": {
    "execution": {
     "iopub.execute_input": "2022-10-02T02:20:32.019921Z",
     "iopub.status.busy": "2022-10-02T02:20:32.019535Z",
     "iopub.status.idle": "2022-10-02T02:20:32.027475Z",
     "shell.execute_reply": "2022-10-02T02:20:32.026809Z"
    },
    "papermill": {
     "duration": 0.017484,
     "end_time": "2022-10-02T02:20:32.029805",
     "exception": false,
     "start_time": "2022-10-02T02:20:32.012321",
     "status": "completed"
    },
    "tags": []
   },
   "outputs": [
    {
     "name": "stdout",
     "output_type": "stream",
     "text": [
      "predictions_head: [208500. 181500. 223500. 140000. 250000.]\n",
      "predictions: [208500. 181500. 223500. ... 266500. 142125. 147500.]\n",
      "predictions_head_mean: 200700.0\n",
      "predictions_mean: 180921.19589041095\n",
      "saleprice_mean: 180921.19589041095\n"
     ]
    }
   ],
   "source": [
    "# You can write code in this cell\n",
    "predictions_head= iowa_model.predict(X.head())\n",
    "print('predictions_head:',predictions_head)\n",
    "print('predictions:',predictions)\n",
    "\n",
    "# get mean of numpy array predictions_head\n",
    "predictions_head_mean = predictions_head.mean()\n",
    "print('predictions_head_mean:', predictions_head_mean)\n",
    "\n",
    "# get mean of numpy array predictions\n",
    "predictions_mean = predictions.mean()\n",
    "print('predictions_mean:', predictions_mean)\n",
    "\n",
    "saleprice_mean = y.mean()\n",
    "print('saleprice_mean:', saleprice_mean)"
   ]
  },
  {
   "cell_type": "markdown",
   "id": "da50773c",
   "metadata": {
    "papermill": {
     "duration": 0.005652,
     "end_time": "2022-10-02T02:20:32.041897",
     "exception": false,
     "start_time": "2022-10-02T02:20:32.036245",
     "status": "completed"
    },
    "tags": []
   },
   "source": [
    "From the above, when using the head method, we can see that the first 5 predictions are the same as the first 5 values in the y variable. This is because the model was trained on the same data that it is being tested on. This is not a good way to test a model. We will need to split the data into training and testing data. "
   ]
  },
  {
   "cell_type": "markdown",
   "id": "c5878552",
   "metadata": {
    "papermill": {
     "duration": 0.006253,
     "end_time": "2022-10-02T02:20:32.054033",
     "exception": false,
     "start_time": "2022-10-02T02:20:32.047780",
     "status": "completed"
    },
    "tags": []
   },
   "source": [
    "It's natural to ask how accurate the model's predictions will be and how you can improve that. That will be you're next step.\n",
    "\n",
    "# Keep Going\n",
    "\n",
    "You are ready for **[Model Validation](https://www.kaggle.com/dansbecker/model-validation).**\n"
   ]
  },
  {
   "cell_type": "markdown",
   "id": "1674d449",
   "metadata": {
    "papermill": {
     "duration": 0.006417,
     "end_time": "2022-10-02T02:20:32.067122",
     "exception": false,
     "start_time": "2022-10-02T02:20:32.060705",
     "status": "completed"
    },
    "tags": []
   },
   "source": [
    "---\n",
    "\n",
    "\n",
    "\n",
    "\n",
    "*Have questions or comments? Visit the [course discussion forum](https://www.kaggle.com/learn/intro-to-machine-learning/discussion) to chat with other learners.*"
   ]
  }
 ],
 "metadata": {
  "kernelspec": {
   "display_name": "Python 3.10.6 ('py3')",
   "language": "python",
   "name": "python3"
  },
  "language_info": {
   "codemirror_mode": {
    "name": "ipython",
    "version": 3
   },
   "file_extension": ".py",
   "mimetype": "text/x-python",
   "name": "python",
   "nbconvert_exporter": "python",
   "pygments_lexer": "ipython3",
   "version": "3.10.6"
  },
  "papermill": {
   "default_parameters": {},
   "duration": 9.726611,
   "end_time": "2022-10-02T02:20:32.694468",
   "environment_variables": {},
   "exception": null,
   "input_path": "__notebook__.ipynb",
   "output_path": "__notebook__.ipynb",
   "parameters": {},
   "start_time": "2022-10-02T02:20:22.967857",
   "version": "2.3.4"
  },
  "vscode": {
   "interpreter": {
    "hash": "0685da48a2911b8109a04792cb9675c037d2f87469e406aabf235eea4f54c99a"
   }
  }
 },
 "nbformat": 4,
 "nbformat_minor": 5
}
