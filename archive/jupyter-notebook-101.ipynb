{
 "cells": [
  {
   "cell_type": "markdown",
   "id": "359914ad",
   "metadata": {
    "papermill": {
     "duration": 0.032426,
     "end_time": "2023-01-18T19:14:48.454158",
     "exception": false,
     "start_time": "2023-01-18T19:14:48.421732",
     "status": "completed"
    },
    "tags": []
   },
   "source": [
    "## Introduction"
   ]
  },
  {
   "cell_type": "markdown",
   "id": "9c0891b6",
   "metadata": {
    "papermill": {
     "duration": 0.030399,
     "end_time": "2023-01-18T19:14:48.515267",
     "exception": false,
     "start_time": "2023-01-18T19:14:48.484868",
     "status": "completed"
    },
    "tags": []
   },
   "source": [
    "Let's build up from the basics: what is a Jupyter Notebook? A notebook is a document made of cells. You can write in some of them (markdown cells) or you can perform calculations in Python (code cells) and run them like this:"
   ]
  },
  {
   "cell_type": "code",
   "execution_count": 1,
   "id": "b2d4ebac",
   "metadata": {
    "execution": {
     "iopub.execute_input": "2023-01-18T19:14:48.582443Z",
     "iopub.status.busy": "2023-01-18T19:14:48.581417Z",
     "iopub.status.idle": "2023-01-18T19:14:48.595981Z",
     "shell.execute_reply": "2023-01-18T19:14:48.595296Z"
    },
    "papermill": {
     "duration": 0.050462,
     "end_time": "2023-01-18T19:14:48.598160",
     "exception": false,
     "start_time": "2023-01-18T19:14:48.547698",
     "status": "completed"
    },
    "tags": []
   },
   "outputs": [
    {
     "data": {
      "text/plain": [
       "2"
      ]
     },
     "execution_count": 1,
     "metadata": {},
     "output_type": "execute_result"
    }
   ],
   "source": [
    "1+1"
   ]
  },
  {
   "cell_type": "markdown",
   "id": "afae61b3",
   "metadata": {
    "papermill": {
     "duration": 0.030801,
     "end_time": "2023-01-18T19:14:48.660068",
     "exception": false,
     "start_time": "2023-01-18T19:14:48.629267",
     "status": "completed"
    },
    "tags": []
   },
   "source": [
    "Cool, huh? This combination of prose and code makes Jupyter Notebook ideal for experimentation: we can see the rationale for each experiment, the code, and the results in one comprehensive document. \n",
    "\n",
    "Try it yourself now. Click \"Copy & Edit\" in the top right to get your own editable version of this notebook, then click the cell above and hit `Shift`-`Enter`.\n",
    "\n",
    "Other renowned institutions in academia and industry use Jupyter Notebook, including Google, Microsoft, IBM, Bloomberg, Berkeley and NASA among others. Even Nobel-winning economists [use Jupyter Notebooks](https://paulromer.net/jupyter-mathematica-and-the-future-of-the-research-paper/)  for their experiments and some suggest that Jupyter Notebooks will be the [new format for research papers](https://www.theatlantic.com/science/archive/2018/04/the-scientific-paper-is-obsolete/556676/).\n"
   ]
  },
  {
   "cell_type": "markdown",
   "id": "f26ab122",
   "metadata": {
    "papermill": {
     "duration": 0.032917,
     "end_time": "2023-01-18T19:14:48.723648",
     "exception": false,
     "start_time": "2023-01-18T19:14:48.690731",
     "status": "completed"
    },
    "tags": []
   },
   "source": [
    "## Writing"
   ]
  },
  {
   "cell_type": "markdown",
   "id": "c15501aa",
   "metadata": {
    "papermill": {
     "duration": 0.030912,
     "end_time": "2023-01-18T19:14:48.786522",
     "exception": false,
     "start_time": "2023-01-18T19:14:48.755610",
     "status": "completed"
    },
    "tags": []
   },
   "source": [
    "A type of cell in which you can write text is called a _Markdown cell_. [_Markdown_](https://en.wikipedia.org/wiki/Markdown) is a very popular markup language. To specify that a cell is Markdown you need to click in the drop-down menu in the toolbar and select Markdown.\n",
    "\n",
    "Click the '+ Markdown' button below. Now you can type your first Markdown cell. Write 'My first markdown cell' and press run.\n",
    "\n",
    "You should see something like this:"
   ]
  },
  {
   "cell_type": "markdown",
   "id": "f3ebe693",
   "metadata": {
    "papermill": {
     "duration": 0.030915,
     "end_time": "2023-01-18T19:14:48.849431",
     "exception": false,
     "start_time": "2023-01-18T19:14:48.818516",
     "status": "completed"
    },
    "tags": []
   },
   "source": [
    "My first markdown cell"
   ]
  },
  {
   "cell_type": "markdown",
   "id": "8007a3a6",
   "metadata": {
    "papermill": {
     "duration": 0.030908,
     "end_time": "2023-01-18T19:14:48.911340",
     "exception": false,
     "start_time": "2023-01-18T19:14:48.880432",
     "status": "completed"
    },
    "tags": []
   },
   "source": [
    "Now try making your first _Code_ cell: follow the same steps as before but click \"+ Code\". Type something like 3/2. You should see '1.5' as output."
   ]
  },
  {
   "cell_type": "code",
   "execution_count": 2,
   "id": "60ebebbc",
   "metadata": {
    "execution": {
     "iopub.execute_input": "2023-01-18T19:14:48.975516Z",
     "iopub.status.busy": "2023-01-18T19:14:48.974915Z",
     "iopub.status.idle": "2023-01-18T19:14:48.980961Z",
     "shell.execute_reply": "2023-01-18T19:14:48.980216Z"
    },
    "papermill": {
     "duration": 0.040745,
     "end_time": "2023-01-18T19:14:48.982977",
     "exception": false,
     "start_time": "2023-01-18T19:14:48.942232",
     "status": "completed"
    },
    "tags": []
   },
   "outputs": [
    {
     "data": {
      "text/plain": [
       "1.5"
      ]
     },
     "execution_count": 2,
     "metadata": {},
     "output_type": "execute_result"
    }
   ],
   "source": [
    "3/2"
   ]
  },
  {
   "cell_type": "markdown",
   "id": "f23cce59",
   "metadata": {
    "papermill": {
     "duration": 0.032681,
     "end_time": "2023-01-18T19:14:49.047807",
     "exception": false,
     "start_time": "2023-01-18T19:14:49.015126",
     "status": "completed"
    },
    "tags": []
   },
   "source": [
    "## Modes"
   ]
  },
  {
   "cell_type": "markdown",
   "id": "db69c1b9",
   "metadata": {
    "papermill": {
     "duration": 0.03362,
     "end_time": "2023-01-18T19:14:49.112973",
     "exception": false,
     "start_time": "2023-01-18T19:14:49.079353",
     "status": "completed"
    },
    "tags": []
   },
   "source": [
    "If you made a mistake in your *Markdown* cell and you have already run it, you will notice that you cannot edit it just by clicking on it. This is because you are in **Command Mode**. Jupyter Notebooks have two distinct modes:\n",
    "\n",
    "- Edit Mode:: Allows you to edit a cell's content.\n",
    "\n",
    "- Command Mode:: Allows you to edit the notebook as a whole and use keyboard shortcuts but not edit a cell's content. \n",
    "\n",
    "You can toggle between these two by either pressing <kbd>ESC</kbd> and <kbd>Enter</kbd> or clicking outside a cell or inside it (you need to double click if it's a Markdown cell). You can always tell which mode you're on: the current cell will have a green border in **Edit Mode** and a blue border in **Command Mode**. Try it!\n"
   ]
  },
  {
   "cell_type": "markdown",
   "id": "a6c241bf",
   "metadata": {
    "papermill": {
     "duration": 0.031119,
     "end_time": "2023-01-18T19:14:49.175992",
     "exception": false,
     "start_time": "2023-01-18T19:14:49.144873",
     "status": "completed"
    },
    "tags": []
   },
   "source": [
    "## Other Important Considerations"
   ]
  },
  {
   "cell_type": "markdown",
   "id": "bb0da711",
   "metadata": {
    "papermill": {
     "duration": 0.031059,
     "end_time": "2023-01-18T19:14:49.238418",
     "exception": false,
     "start_time": "2023-01-18T19:14:49.207359",
     "status": "completed"
    },
    "tags": []
   },
   "source": [
    "Your notebook is autosaved every 120 seconds. If you want to manually save it you can just press the \"save version\" button on the upper right corner.\n",
    "\n",
    "To know if your *kernel* (the Python engine executing your instructions behind the scenes) is computing or not, you can check the icon to the left of your cell. If the dot spinning, it means that the kernel is working. If not, it is idle.\n",
    "\n",
    "There are a couple of shortcuts you must know about which we use **all** the time (always in **Command Mode**). These are:\n",
    "\n",
    "- <kbd>Shift</kbd>+<kbd>Enter</kbd>: Run the code or markdown on a cell\n",
    "- <kbd>Up Arrow</kbd> / <kbd>Down Arrow</kbd>: Toggle across cells\n",
    "- <kbd>b</kbd>: Create new cell underneath this one\n",
    "- <kbd>0</kbd>+<kbd>0</kbd>: Reset Kernel\n",
    "\n",
    "You can find more shortcuts by typing <kbd>h</kbd> (for help).\n",
    "\n",
    "You may need to use shell commands, like `ls` or `cat` in a Jupyter Notebook environment. That is very easy to do: just type `!` before you shell command, like so:"
   ]
  },
  {
   "cell_type": "code",
   "execution_count": 3,
   "id": "e586f1c5",
   "metadata": {
    "execution": {
     "iopub.execute_input": "2023-01-18T19:14:49.305216Z",
     "iopub.status.busy": "2023-01-18T19:14:49.304816Z",
     "iopub.status.idle": "2023-01-18T19:14:50.391722Z",
     "shell.execute_reply": "2023-01-18T19:14:50.390341Z"
    },
    "papermill": {
     "duration": 1.124586,
     "end_time": "2023-01-18T19:14:50.394813",
     "exception": false,
     "start_time": "2023-01-18T19:14:49.270227",
     "status": "completed"
    },
    "tags": []
   },
   "outputs": [
    {
     "name": "stdout",
     "output_type": "stream",
     "text": [
      "/kaggle/working\r\n"
     ]
    }
   ],
   "source": [
    "!pwd"
   ]
  },
  {
   "cell_type": "markdown",
   "id": "57fdf365",
   "metadata": {
    "papermill": {
     "duration": 0.03187,
     "end_time": "2023-01-18T19:14:50.459098",
     "exception": false,
     "start_time": "2023-01-18T19:14:50.427228",
     "status": "completed"
    },
    "tags": []
   },
   "source": [
    "That's it. This is all you need to know to use Jupyter Notebooks. That said, we have more tips and tricks below... There's a lot you can do with notebooks -- in fact, we published [a whole book](https://www.amazon.com/Deep-Learning-Coders-fastai-PyTorch/dp/1492045527) written entirely as notebooks!"
   ]
  },
  {
   "cell_type": "markdown",
   "id": "1b1fb6b2",
   "metadata": {
    "papermill": {
     "duration": 0.031472,
     "end_time": "2023-01-18T19:14:50.522637",
     "exception": false,
     "start_time": "2023-01-18T19:14:50.491165",
     "status": "completed"
    },
    "tags": []
   },
   "source": [
    "## Markdown Formatting\n"
   ]
  },
  {
   "cell_type": "markdown",
   "id": "e2ec65b2",
   "metadata": {
    "papermill": {
     "duration": 0.031756,
     "end_time": "2023-01-18T19:14:50.587572",
     "exception": false,
     "start_time": "2023-01-18T19:14:50.555816",
     "status": "completed"
    },
    "tags": []
   },
   "source": [
    "### Images"
   ]
  },
  {
   "cell_type": "markdown",
   "id": "437977bd",
   "metadata": {
    "papermill": {
     "duration": 0.03229,
     "end_time": "2023-01-18T19:14:50.651761",
     "exception": false,
     "start_time": "2023-01-18T19:14:50.619471",
     "status": "completed"
    },
    "tags": []
   },
   "source": [
    "Did you know that the Jupyter Notebook team won the highest honor for a software system, the ACM Software System Award?"
   ]
  },
  {
   "attachments": {
    "50f102f8-2e66-48ae-88f4-ea2b7fe8c80f.jpg": {
     "image/jpeg": "[encoded data removed]"
    }
   },
   "cell_type": "markdown",
   "id": "f0f610b7",
   "metadata": {
    "papermill": {
     "duration": 0.032642,
     "end_time": "2023-01-18T19:14:50.717652",
     "exception": false,
     "start_time": "2023-01-18T19:14:50.685010",
     "status": "completed"
    },
    "tags": []
   },
   "source": [
    "![upload_image_to_kernel_example.jpg](attachment:50f102f8-2e66-48ae-88f4-ea2b7fe8c80f.jpg)"
   ]
  },
  {
   "cell_type": "markdown",
   "id": "acd3d851",
   "metadata": {
    "papermill": {
     "duration": 0.032482,
     "end_time": "2023-01-18T19:14:50.784058",
     "exception": false,
     "start_time": "2023-01-18T19:14:50.751576",
     "status": "completed"
    },
    "tags": []
   },
   "source": [
    "And did you know that you can add images to your notebook, like I did in the cell above? To do so, just copy your image on your computer, and paste it into a markdown cell. You'll see something like this:\n",
    "\n",
    "    ![image.png](attachment:e8fe737f-c301-41ec-a462-cf16cee3cbb7.png)\n",
    "\n",
    "When you execute the cell, you'll see the image appear."
   ]
  },
  {
   "cell_type": "markdown",
   "id": "0734ca91",
   "metadata": {
    "papermill": {
     "duration": 0.032764,
     "end_time": "2023-01-18T19:14:50.850532",
     "exception": false,
     "start_time": "2023-01-18T19:14:50.817768",
     "status": "completed"
    },
    "tags": []
   },
   "source": [
    "### Italics, Bold, Strikethrough, Inline, Blockquotes and Links"
   ]
  },
  {
   "cell_type": "markdown",
   "id": "ed992067",
   "metadata": {
    "papermill": {
     "duration": 0.03156,
     "end_time": "2023-01-18T19:14:50.915547",
     "exception": false,
     "start_time": "2023-01-18T19:14:50.883987",
     "status": "completed"
    },
    "tags": []
   },
   "source": [
    "The five most important concepts to format your code appropriately when using Markdown are:\n",
    "    \n",
    "- *Italics*:: Surround your text with \\_ or \\*.\n",
    "\n",
    "- **Bold**:: Surround your text with \\__ or \\**.\n",
    "\n",
    "- `inline`:: Surround your text with \\`.\n",
    "\n",
    "- blockquote:: Place \\> before your text.\n",
    "\n",
    "- [Links](http://course-v3.fast.ai/):: Surround the text you want to link with \\[\\] and place the link adjacent to the text, surrounded with ().\n",
    "\n"
   ]
  },
  {
   "cell_type": "markdown",
   "id": "4275c8fa",
   "metadata": {
    "papermill": {
     "duration": 0.031832,
     "end_time": "2023-01-18T19:14:50.980526",
     "exception": false,
     "start_time": "2023-01-18T19:14:50.948694",
     "status": "completed"
    },
    "tags": []
   },
   "source": [
    "### Headings"
   ]
  },
  {
   "cell_type": "markdown",
   "id": "9287dd4b",
   "metadata": {
    "papermill": {
     "duration": 0.033572,
     "end_time": "2023-01-18T19:14:51.047755",
     "exception": false,
     "start_time": "2023-01-18T19:14:51.014183",
     "status": "completed"
    },
    "tags": []
   },
   "source": [
    "Notice that including a hashtag before the text in a markdown cell makes the text a heading. The number of hashtags you include will determine the priority of the header (# is level one, ## is level two, ### is level three and #### is level four). We will add three new cells with the + button on the left to see how every level of heading looks.\n",
    "\n",
    "In the notebook, double click on some headings and find out what level they are!\n"
   ]
  },
  {
   "cell_type": "markdown",
   "id": "0864d9c4",
   "metadata": {
    "papermill": {
     "duration": 0.031284,
     "end_time": "2023-01-18T19:14:51.110968",
     "exception": false,
     "start_time": "2023-01-18T19:14:51.079684",
     "status": "completed"
    },
    "tags": []
   },
   "source": [
    "### Lists"
   ]
  },
  {
   "cell_type": "markdown",
   "id": "62682531",
   "metadata": {
    "papermill": {
     "duration": 0.031222,
     "end_time": "2023-01-18T19:14:51.174019",
     "exception": false,
     "start_time": "2023-01-18T19:14:51.142797",
     "status": "completed"
    },
    "tags": []
   },
   "source": [
    "There are three types of lists in markdown.\n",
    "\n",
    "Ordered list:\n",
    "\n",
    "1. Step 1\n",
    "    2. Step 1B\n",
    "3. Step 3\n",
    "\n",
    "Unordered list\n",
    "\n",
    "* learning rate\n",
    "* cycle length\n",
    "* weight decay\n",
    "\n",
    "Task list\n",
    "\n",
    "- [x] Learn Jupyter Notebooks\n",
    "    - [x] Writing\n",
    "    - [x] Modes\n",
    "    - [x] Other Considerations\n",
    "- [ ] Change the world\n",
    "\n",
    "In the notebook, double click on them to see how they are built! \n"
   ]
  },
  {
   "cell_type": "markdown",
   "id": "cc20b9da",
   "metadata": {
    "papermill": {
     "duration": 0.031369,
     "end_time": "2023-01-18T19:14:51.237431",
     "exception": false,
     "start_time": "2023-01-18T19:14:51.206062",
     "status": "completed"
    },
    "tags": []
   },
   "source": [
    "## Code Capabilities"
   ]
  },
  {
   "cell_type": "markdown",
   "id": "0c62842b",
   "metadata": {
    "papermill": {
     "duration": 0.031477,
     "end_time": "2023-01-18T19:14:51.300579",
     "exception": false,
     "start_time": "2023-01-18T19:14:51.269102",
     "status": "completed"
    },
    "tags": []
   },
   "source": [
    "**Code** cells are different than **Markdown** cells in that they have an output cell. This means that we can _keep_ the results of our code within the notebook and share them. Let's say we want to show a graph that explains the result of an experiment. We can just run the necessary cells and save the notebook. The output will be there when we open it again! Try it out by running the next two cells."
   ]
  },
  {
   "cell_type": "code",
   "execution_count": 4,
   "id": "4bbcd567",
   "metadata": {
    "execution": {
     "iopub.execute_input": "2023-01-18T19:14:51.370029Z",
     "iopub.status.busy": "2023-01-18T19:14:51.369594Z",
     "iopub.status.idle": "2023-01-18T19:14:51.378020Z",
     "shell.execute_reply": "2023-01-18T19:14:51.377004Z"
    },
    "papermill": {
     "duration": 0.045969,
     "end_time": "2023-01-18T19:14:51.380193",
     "exception": false,
     "start_time": "2023-01-18T19:14:51.334224",
     "status": "completed"
    },
    "tags": []
   },
   "outputs": [
    {
     "data": {
      "text/plain": [
       "(1, 2, 4, 8)"
      ]
     },
     "execution_count": 4,
     "metadata": {},
     "output_type": "execute_result"
    }
   ],
   "source": [
    "a = 1\n",
    "b = a + 1\n",
    "c = b + a + 1\n",
    "d = c + b + a + 1\n",
    "a, b, c ,d"
   ]
  },
  {
   "cell_type": "code",
   "execution_count": 5,
   "id": "469afdfe",
   "metadata": {
    "execution": {
     "iopub.execute_input": "2023-01-18T19:14:51.449475Z",
     "iopub.status.busy": "2023-01-18T19:14:51.449103Z",
     "iopub.status.idle": "2023-01-18T19:14:51.699963Z",
     "shell.execute_reply": "2023-01-18T19:14:51.698910Z"
    },
    "papermill": {
     "duration": 0.288941,
     "end_time": "2023-01-18T19:14:51.703138",
     "exception": false,
     "start_time": "2023-01-18T19:14:51.414197",
     "status": "completed"
    },
    "tags": []
   },
   "outputs": [
    {
     "data": {
      "image/png": "[encoded data removed]",
      "text/plain": [
       "<Figure size 432x288 with 1 Axes>"
      ]
     },
     "metadata": {
      "needs_background": "light"
     },
     "output_type": "display_data"
    }
   ],
   "source": [
    "import matplotlib.pyplot as plt\n",
    "\n",
    "plt.plot([a,b,c,d])\n",
    "plt.show()"
   ]
  },
  {
   "cell_type": "markdown",
   "id": "c06fb91f",
   "metadata": {
    "papermill": {
     "duration": 0.033168,
     "end_time": "2023-01-18T19:14:51.771716",
     "exception": false,
     "start_time": "2023-01-18T19:14:51.738548",
     "status": "completed"
    },
    "tags": []
   },
   "source": [
    "## Running Jupyter Locally"
   ]
  },
  {
   "cell_type": "markdown",
   "id": "6493e7da",
   "metadata": {
    "papermill": {
     "duration": 0.033236,
     "end_time": "2023-01-18T19:14:51.838696",
     "exception": false,
     "start_time": "2023-01-18T19:14:51.805460",
     "status": "completed"
    },
    "tags": []
   },
   "source": [
    "This notebook is running inside Kaggle. You can also run notebooks inside other cloud environments such as [Colab](https://colab.research.google.com), [Sagemaker Studio Lab](https://studiolab.sagemaker.aws/), and [Paperspace Gradient](https://gradient.run/notebooks). Or you can run a Jupyter Notebook server from your local computer. What's more, if you have installed Anaconda you don't even need to install Jupyter (if not, just `pip install jupyter`).\n",
    "\n",
    "You just need to run `jupyter notebook` in your terminal. Remember to run it from a folder that contains all the folders/files you will want to access. You will be able to open, view, and edit files located within the directory in which you run this command but not files in parent directories.\n",
    "\n",
    "If a browser tab does not open automatically once you run the command, you should CTRL+CLICK the link starting with 'http://localhost:' and this will open a new tab in your default browser.\n"
   ]
  },
  {
   "cell_type": "markdown",
   "id": "28319950",
   "metadata": {
    "papermill": {
     "duration": 0.034701,
     "end_time": "2023-01-18T19:14:51.908129",
     "exception": false,
     "start_time": "2023-01-18T19:14:51.873428",
     "status": "completed"
    },
    "tags": []
   },
   "source": [
    "## Shortcuts and Tricks"
   ]
  },
  {
   "cell_type": "markdown",
   "id": "1cacde76",
   "metadata": {
    "papermill": {
     "duration": 0.032603,
     "end_time": "2023-01-18T19:14:51.974494",
     "exception": false,
     "start_time": "2023-01-18T19:14:51.941891",
     "status": "completed"
    },
    "tags": []
   },
   "source": [
    "Here is a list of useful tricks when in a Jupyter Notebook. Make sure you learn them early and use them as often as you can!\n"
   ]
  },
  {
   "cell_type": "markdown",
   "id": "3748a511",
   "metadata": {
    "papermill": {
     "duration": 0.035012,
     "end_time": "2023-01-18T19:14:52.044874",
     "exception": false,
     "start_time": "2023-01-18T19:14:52.009862",
     "status": "completed"
    },
    "tags": []
   },
   "source": [
    "### Command Mode Shortcuts"
   ]
  },
  {
   "cell_type": "markdown",
   "id": "283e0fb0",
   "metadata": {
    "papermill": {
     "duration": 0.033694,
     "end_time": "2023-01-18T19:14:52.116278",
     "exception": false,
     "start_time": "2023-01-18T19:14:52.082584",
     "status": "completed"
    },
    "tags": []
   },
   "source": [
    "There are a couple of useful keyboard shortcuts in `Command Mode` that you can leverage to make Jupyter Notebook faster to use. Remember that you can switch back and forth between `Command Mode` and `Edit Mode` with <kbd>Esc</kbd> and <kbd>Enter</kbd>.\n",
    "\n",
    "- m:: Convert cell to Markdown\n",
    "- y:: Convert cell to Code\n",
    "- d+d:: Delete cell\n",
    "- o:: Toggle between hide or show output\n",
    "- Shift+Arrow up/Arrow down:: Select multiple cells. Once you have selected them you can operate on them like a batch (run, copy, paste etc).\n",
    "- Shift+M:: Merge selected cells\n"
   ]
  },
  {
   "cell_type": "markdown",
   "id": "866997f0",
   "metadata": {
    "papermill": {
     "duration": 0.033088,
     "end_time": "2023-01-18T19:14:52.182856",
     "exception": false,
     "start_time": "2023-01-18T19:14:52.149768",
     "status": "completed"
    },
    "tags": []
   },
   "source": [
    "### Cell Tricks"
   ]
  },
  {
   "cell_type": "markdown",
   "id": "c959ec99",
   "metadata": {
    "papermill": {
     "duration": 0.032691,
     "end_time": "2023-01-18T19:14:52.249014",
     "exception": false,
     "start_time": "2023-01-18T19:14:52.216323",
     "status": "completed"
    },
    "tags": []
   },
   "source": [
    "There are also some tricks that you can code into a cell:\n",
    "\n",
    "- `?function-name`:: Shows the definition and docstring for that function\n",
    "- `??function-name`:: Shows the source code for that function\n",
    "- `doc(function-name)`:: Shows the definition, docstring **and links to the documentation** of the function\n",
    "(only works with fastai library imported)\n",
    "- Shift+Tab (press once):: See which parameters to pass to a function \n",
    "- Shift+Tab (press three times):: Get additional information on the method\n",
    "\n",
    "Here's an example of using `?` to learn about Python's `print()` function:"
   ]
  },
  {
   "cell_type": "code",
   "execution_count": 6,
   "id": "a9044ddb",
   "metadata": {
    "execution": {
     "iopub.execute_input": "2023-01-18T19:14:52.317574Z",
     "iopub.status.busy": "2023-01-18T19:14:52.317207Z",
     "iopub.status.idle": "2023-01-18T19:14:52.323584Z",
     "shell.execute_reply": "2023-01-18T19:14:52.322682Z"
    },
    "papermill": {
     "duration": 0.043364,
     "end_time": "2023-01-18T19:14:52.325641",
     "exception": false,
     "start_time": "2023-01-18T19:14:52.282277",
     "status": "completed"
    },
    "tags": []
   },
   "outputs": [],
   "source": [
    "?print"
   ]
  },
  {
   "cell_type": "markdown",
   "id": "9d1f40a0",
   "metadata": {
    "papermill": {
     "duration": 0.033736,
     "end_time": "2023-01-18T19:14:52.396211",
     "exception": false,
     "start_time": "2023-01-18T19:14:52.362475",
     "status": "completed"
    },
    "tags": []
   },
   "source": [
    "### Line Magics"
   ]
  },
  {
   "cell_type": "markdown",
   "id": "3f8ea0ed",
   "metadata": {
    "papermill": {
     "duration": 0.034425,
     "end_time": "2023-01-18T19:14:52.465495",
     "exception": false,
     "start_time": "2023-01-18T19:14:52.431070",
     "status": "completed"
    },
    "tags": []
   },
   "source": [
    "Line magics are functions that you can run on cells. They should be at the beginning of a line and take as an argument the rest of the line from where they are called. You call them by placing a '%' sign before the command. The most useful ones are:\n",
    "\n",
    "- `%matplotlib inline`:: Ensures that all matplotlib plots will be plotted in the output cell within the notebook and will be kept in the notebook when saved.\n",
    "\n",
    "This command is always called together at the beginning of every notebook of the fast.ai course.\n",
    "\n",
    "``` python\n",
    "%matplotlib inline\n",
    "```\n",
    "\n",
    "- `%timeit`:: Runs a line ten thousand times and displays the average time it took to run."
   ]
  },
  {
   "cell_type": "code",
   "execution_count": 7,
   "id": "2f49c17d",
   "metadata": {
    "execution": {
     "iopub.execute_input": "2023-01-18T19:14:52.535880Z",
     "iopub.status.busy": "2023-01-18T19:14:52.535346Z",
     "iopub.status.idle": "2023-01-18T19:14:59.109099Z",
     "shell.execute_reply": "2023-01-18T19:14:59.107992Z"
    },
    "papermill": {
     "duration": 6.612832,
     "end_time": "2023-01-18T19:14:59.111479",
     "exception": false,
     "start_time": "2023-01-18T19:14:52.498647",
     "status": "completed"
    },
    "tags": []
   },
   "outputs": [
    {
     "name": "stdout",
     "output_type": "stream",
     "text": [
      "80.9 µs ± 1 µs per loop (mean ± std. dev. of 7 runs, 10000 loops each)\n"
     ]
    }
   ],
   "source": [
    "%timeit [i+1 for i in range(1000)]"
   ]
  },
  {
   "cell_type": "markdown",
   "id": "a437374f",
   "metadata": {
    "papermill": {
     "duration": 0.033333,
     "end_time": "2023-01-18T19:14:59.179443",
     "exception": false,
     "start_time": "2023-01-18T19:14:59.146110",
     "status": "completed"
    },
    "tags": []
   },
   "source": [
    "`%debug`: Inspects a function which is showing an error using the [Python debugger](https://docs.python.org/3/library/pdb.html). If you type this in a cell just after an error, you will be directed to a console where you can inspect the values of all the variables.\n"
   ]
  },
  {
   "cell_type": "markdown",
   "id": "ddc08f19",
   "metadata": {
    "papermill": {
     "duration": 0.033822,
     "end_time": "2023-01-18T19:14:59.246976",
     "exception": false,
     "start_time": "2023-01-18T19:14:59.213154",
     "status": "completed"
    },
    "tags": []
   },
   "source": [
    "## Thanks for reading!"
   ]
  },
  {
   "cell_type": "markdown",
   "id": "c6c9edb9",
   "metadata": {
    "papermill": {
     "duration": 0.033364,
     "end_time": "2023-01-18T19:14:59.314641",
     "exception": false,
     "start_time": "2023-01-18T19:14:59.281277",
     "status": "completed"
    },
    "tags": []
   },
   "source": [
    "If you found this notebook useful, I'd greatly appreciate an upvote (on my original notebook [here](https://www.kaggle.com/code/jhoward/jupyter-notebook-101), not on the copy you made of it!) Don't hesitate to add a comment if you have any questions or thoughts to add, or have your own favorite Jupyter tips."
   ]
  }
 ],
 "metadata": {
  "kernelspec": {
   "display_name": "Python 3",
   "language": "python",
   "name": "python3"
  },
  "language_info": {
   "codemirror_mode": {
    "name": "ipython",
    "version": 3
   },
   "file_extension": ".py",
   "mimetype": "text/x-python",
   "name": "python",
   "nbconvert_exporter": "python",
   "pygments_lexer": "ipython3",
   "version": "3.7.12"
  },
  "papermill": {
   "default_parameters": {},
   "duration": 22.789189,
   "end_time": "2023-01-18T19:15:00.374700",
   "environment_variables": {},
   "exception": null,
   "input_path": "__notebook__.ipynb",
   "output_path": "__notebook__.ipynb",
   "parameters": {},
   "start_time": "2023-01-18T19:14:37.585511",
   "version": "2.3.4"
  }
 },
 "nbformat": 4,
 "nbformat_minor": 5
}
