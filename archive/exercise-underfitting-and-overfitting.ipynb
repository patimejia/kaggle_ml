{
 "cells": [
  {
   "cell_type": "markdown",
   "id": "faf44186",
   "metadata": {
    "papermill": {
     "duration": 0.003281,
     "end_time": "2022-10-03T01:33:17.358572",
     "exception": false,
     "start_time": "2022-10-03T01:33:17.355291",
     "status": "completed"
    },
    "tags": []
   },
   "source": [
    "**This notebook is an exercise in the [Introduction to Machine Learning](https://www.kaggle.com/learn/intro-to-machine-learning) course.  You can reference the tutorial at [this link](https://www.kaggle.com/dansbecker/underfitting-and-overfitting).**\n",
    "\n",
    "---\n"
   ]
  },
  {
   "cell_type": "markdown",
   "id": "a60ce475",
   "metadata": {
    "papermill": {
     "duration": 0.002403,
     "end_time": "2022-10-03T01:33:17.363964",
     "exception": false,
     "start_time": "2022-10-03T01:33:17.361561",
     "status": "completed"
    },
    "tags": []
   },
   "source": [
    "## Recap\n",
    "You've built your first model, and now it's time to optimize the size of the tree to make better predictions. Run this cell to set up your coding environment where the previous step left off."
   ]
  },
  {
   "cell_type": "code",
   "execution_count": 1,
   "id": "2302121f",
   "metadata": {
    "execution": {
     "iopub.execute_input": "2022-10-03T01:33:17.371226Z",
     "iopub.status.busy": "2022-10-03T01:33:17.370853Z",
     "iopub.status.idle": "2022-10-03T01:33:18.674628Z",
     "shell.execute_reply": "2022-10-03T01:33:18.673634Z"
    },
    "papermill": {
     "duration": 1.310641,
     "end_time": "2022-10-03T01:33:18.677155",
     "exception": false,
     "start_time": "2022-10-03T01:33:17.366514",
     "status": "completed"
    },
    "tags": []
   },
   "outputs": [
    {
     "name": "stdout",
     "output_type": "stream",
     "text": [
      "Validation MAE: 29,653\n",
      "\n",
      "Setup complete\n"
     ]
    }
   ],
   "source": [
    "# Code you have previously used to load data\n",
    "import pandas as pd\n",
    "from sklearn.metrics import mean_absolute_error\n",
    "from sklearn.model_selection import train_test_split\n",
    "from sklearn.tree import DecisionTreeRegressor\n",
    "\n",
    "\n",
    "# Path of the file to read\n",
    "iowa_file_path = '../input/home-data-for-ml-course/train.csv'\n",
    "\n",
    "home_data = pd.read_csv(iowa_file_path)\n",
    "# Create target object and call it y\n",
    "y = home_data.SalePrice\n",
    "# Create X\n",
    "features = ['LotArea', 'YearBuilt', '1stFlrSF', '2ndFlrSF', 'FullBath', 'BedroomAbvGr', 'TotRmsAbvGrd']\n",
    "X = home_data[features]\n",
    "\n",
    "# Split into validation and training data\n",
    "train_X, val_X, train_y, val_y = train_test_split(X, y, random_state=1)\n",
    "\n",
    "# Specify Model\n",
    "iowa_model = DecisionTreeRegressor(random_state=1)\n",
    "# Fit Model\n",
    "iowa_model.fit(train_X, train_y)\n",
    "\n",
    "# Make validation predictions and calculate mean absolute error\n",
    "val_predictions = iowa_model.predict(val_X)\n",
    "val_mae = mean_absolute_error(val_predictions, val_y)\n",
    "print(\"Validation MAE: {:,.0f}\".format(val_mae))\n",
    "\n",
    "# Set up code checking\n",
    "from learntools.core import binder\n",
    "binder.bind(globals())\n",
    "from learntools.machine_learning.ex5 import *\n",
    "print(\"\\nSetup complete\")"
   ]
  },
  {
   "cell_type": "raw",
   "id": "e1ce6861",
   "metadata": {
    "papermill": {
     "duration": 0.002388,
     "end_time": "2022-10-03T01:33:18.682499",
     "exception": false,
     "start_time": "2022-10-03T01:33:18.680111",
     "status": "completed"
    },
    "tags": []
   },
   "source": [
    "def get_mae(max_leaf_nodes, train_X, val_X, train_y, val_y):\n",
    "    model = DecisionTreeRegressor(max_leaf_nodes=max_leaf_nodes, random_state=1)\n",
    "    model.fit(train_X, train_y)\n",
    "    preds_val = model.predict(val_X)\n",
    "    mae = mean_absolute_error(val_y, preds_val)\n",
    "    return(mae)"
   ]
  },
  {
   "cell_type": "markdown",
   "id": "294b9a82",
   "metadata": {
    "papermill": {
     "duration": 0.002249,
     "end_time": "2022-10-03T01:33:18.687239",
     "exception": false,
     "start_time": "2022-10-03T01:33:18.684990",
     "status": "completed"
    },
    "tags": []
   },
   "source": [
    "## Step 1: Compare Different Tree Sizes\n",
    "Write a loop that tries the following values for *max_leaf_nodes* from a set of possible values.\n",
    "\n",
    "Call the *get_mae* function on each value of max_leaf_nodes. Store the output in some way that allows you to select the value of `max_leaf_nodes` that gives the most accurate model on your data."
   ]
  },
  {
   "cell_type": "code",
   "execution_count": 2,
   "id": "c24f7bc2",
   "metadata": {
    "execution": {
     "iopub.execute_input": "2022-10-03T01:33:18.693683Z",
     "iopub.status.busy": "2022-10-03T01:33:18.693371Z",
     "iopub.status.idle": "2022-10-03T01:33:18.774641Z",
     "shell.execute_reply": "2022-10-03T01:33:18.773159Z"
    },
    "papermill": {
     "duration": 0.08719,
     "end_time": "2022-10-03T01:33:18.776870",
     "exception": false,
     "start_time": "2022-10-03T01:33:18.689680",
     "status": "completed"
    },
    "tags": []
   },
   "outputs": [
    {
     "name": "stdout",
     "output_type": "stream",
     "text": [
      "Max leaf nodes: 5  \t\t Mean Absolute Error:  35044\n",
      "Max leaf nodes: 25  \t\t Mean Absolute Error:  29016\n",
      "Max leaf nodes: 50  \t\t Mean Absolute Error:  27405\n",
      "Max leaf nodes: 100  \t\t Mean Absolute Error:  27282\n",
      "Max leaf nodes: 250  \t\t Mean Absolute Error:  27430\n",
      "Max leaf nodes: 500  \t\t Mean Absolute Error:  28380\n"
     ]
    },
    {
     "data": {
      "application/javascript": [
       "parent.postMessage({\"jupyterEvent\": \"custom.exercise_interaction\", \"data\": {\"outcomeType\": 1, \"valueTowardsCompletion\": 0.5, \"interactionType\": 1, \"questionType\": 1, \"questionId\": \"1_BestTreeSize\", \"learnToolsVersion\": \"0.3.4\", \"failureMessage\": \"\", \"exceptionClass\": \"\", \"trace\": \"\"}}, \"*\")"
      ],
      "text/plain": [
       "<IPython.core.display.Javascript object>"
      ]
     },
     "metadata": {},
     "output_type": "display_data"
    },
    {
     "data": {
      "text/markdown": [
       "<span style=\"color:#33cc33\">Correct</span>"
      ],
      "text/plain": [
       "Correct"
      ]
     },
     "metadata": {},
     "output_type": "display_data"
    }
   ],
   "source": [
    "candidate_max_leaf_nodes = [5, 25, 50, 100, 250, 500]\n",
    "# Write loop to find the ideal tree size from candidate_max_leaf_nodes\n",
    "for max_leaf_nodes in candidate_max_leaf_nodes:\n",
    "    my_model = DecisionTreeRegressor(max_leaf_nodes=max_leaf_nodes, random_state=1)\n",
    "    my_model.fit(train_X, train_y)\n",
    "    val_predictions = my_model.predict(val_X)\n",
    "    val_mae = mean_absolute_error(val_predictions, val_y)\n",
    "    print(\"Max leaf nodes: %d  \\t\\t Mean Absolute Error:  %d\" %(max_leaf_nodes, val_mae))\n",
    "\n",
    "\n",
    "# Store the best value of max_leaf_nodes (it will be either 5, 25, 50, 100, 250 or 500)\n",
    "\n",
    "# best_tree_size is the candidate_max_leaf_nodes with the lowest MAE    \n",
    "best_tree_size =  min(candidate_max_leaf_nodes, key=lambda x: mean_absolute_error(DecisionTreeRegressor(max_leaf_nodes=x, random_state=1).fit(train_X, train_y).predict(val_X), val_y))\n",
    "\n",
    "\n",
    "# Check your answer\n",
    "step_1.check()"
   ]
  },
  {
   "cell_type": "markdown",
   "id": "afb2a365",
   "metadata": {
    "papermill": {
     "duration": 0.002632,
     "end_time": "2022-10-03T01:33:18.782556",
     "exception": false,
     "start_time": "2022-10-03T01:33:18.779924",
     "status": "completed"
    },
    "tags": []
   },
   "source": [
    "## Step 2: Fit Model Using All Data\n",
    "You know the best tree size. If you were going to deploy this model in practice, you would make it even more accurate by using all of the data and keeping that tree size.  That is, you don't need to hold out the validation data now that you've made all your modeling decisions."
   ]
  },
  {
   "cell_type": "code",
   "execution_count": 3,
   "id": "4bc5c6f8",
   "metadata": {
    "execution": {
     "iopub.execute_input": "2022-10-03T01:33:18.789770Z",
     "iopub.status.busy": "2022-10-03T01:33:18.789418Z",
     "iopub.status.idle": "2022-10-03T01:33:18.807045Z",
     "shell.execute_reply": "2022-10-03T01:33:18.805655Z"
    },
    "papermill": {
     "duration": 0.02391,
     "end_time": "2022-10-03T01:33:18.809268",
     "exception": false,
     "start_time": "2022-10-03T01:33:18.785358",
     "status": "completed"
    },
    "tags": []
   },
   "outputs": [
    {
     "data": {
      "application/javascript": [
       "parent.postMessage({\"jupyterEvent\": \"custom.exercise_interaction\", \"data\": {\"outcomeType\": 1, \"valueTowardsCompletion\": 0.5, \"interactionType\": 1, \"questionType\": 2, \"questionId\": \"2_FitModelWithAllData\", \"learnToolsVersion\": \"0.3.4\", \"failureMessage\": \"\", \"exceptionClass\": \"\", \"trace\": \"\"}}, \"*\")"
      ],
      "text/plain": [
       "<IPython.core.display.Javascript object>"
      ]
     },
     "metadata": {},
     "output_type": "display_data"
    },
    {
     "data": {
      "text/markdown": [
       "<span style=\"color:#33cc33\">Correct</span>"
      ],
      "text/plain": [
       "Correct"
      ]
     },
     "metadata": {},
     "output_type": "display_data"
    }
   ],
   "source": [
    "# Fill in argument to make optimal size and uncomment\n",
    "final_model = DecisionTreeRegressor(max_leaf_nodes=best_tree_size, random_state=1)\n",
    "\n",
    "# fit the final model and uncomment the next two lines\n",
    "final_model.fit(X, y)\n",
    "\n",
    "# Check your answer\n",
    "step_2.check()"
   ]
  },
  {
   "cell_type": "code",
   "execution_count": 4,
   "id": "c2a5acd3",
   "metadata": {
    "execution": {
     "iopub.execute_input": "2022-10-03T01:33:18.817029Z",
     "iopub.status.busy": "2022-10-03T01:33:18.816696Z",
     "iopub.status.idle": "2022-10-03T01:33:18.820875Z",
     "shell.execute_reply": "2022-10-03T01:33:18.819359Z"
    },
    "papermill": {
     "duration": 0.010388,
     "end_time": "2022-10-03T01:33:18.822914",
     "exception": false,
     "start_time": "2022-10-03T01:33:18.812526",
     "status": "completed"
    },
    "tags": []
   },
   "outputs": [],
   "source": [
    "# step_2.hint()\n",
    "# step_2.solution()"
   ]
  },
  {
   "cell_type": "markdown",
   "id": "44e7f0b2",
   "metadata": {
    "papermill": {
     "duration": 0.002768,
     "end_time": "2022-10-03T01:33:18.829044",
     "exception": false,
     "start_time": "2022-10-03T01:33:18.826276",
     "status": "completed"
    },
    "tags": []
   },
   "source": [
    "You've tuned this model and improved your results. But we are still using Decision Tree models, which are not very sophisticated by modern machine learning standards. In the next step you will learn to use Random Forests to improve your models even more.\n",
    "\n",
    "# Keep Going\n",
    "\n",
    "You are ready for **[Random Forests](https://www.kaggle.com/dansbecker/random-forests).**\n"
   ]
  },
  {
   "cell_type": "markdown",
   "id": "c96d18e8",
   "metadata": {
    "papermill": {
     "duration": 0.002573,
     "end_time": "2022-10-03T01:33:18.834417",
     "exception": false,
     "start_time": "2022-10-03T01:33:18.831844",
     "status": "completed"
    },
    "tags": []
   },
   "source": [
    "---\n",
    "\n",
    "\n",
    "\n",
    "\n",
    "*Have questions or comments? Visit the [course discussion forum](https://www.kaggle.com/learn/intro-to-machine-learning/discussion) to chat with other learners.*"
   ]
  }
 ],
 "metadata": {
  "kernelspec": {
   "display_name": "Python 3",
   "language": "python",
   "name": "python3"
  },
  "language_info": {
   "codemirror_mode": {
    "name": "ipython",
    "version": 3
   },
   "file_extension": ".py",
   "mimetype": "text/x-python",
   "name": "python",
   "nbconvert_exporter": "python",
   "pygments_lexer": "ipython3",
   "version": "3.7.12"
  },
  "papermill": {
   "default_parameters": {},
   "duration": 10.078526,
   "end_time": "2022-10-03T01:33:19.558690",
   "environment_variables": {},
   "exception": null,
   "input_path": "__notebook__.ipynb",
   "output_path": "__notebook__.ipynb",
   "parameters": {},
   "start_time": "2022-10-03T01:33:09.480164",
   "version": "2.3.4"
  }
 },
 "nbformat": 4,
 "nbformat_minor": 5
}
