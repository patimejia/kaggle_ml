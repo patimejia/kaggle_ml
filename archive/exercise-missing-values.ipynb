{
 "cells": [
  {
   "cell_type": "markdown",
   "id": "ec86ab02",
   "metadata": {
    "papermill": {
     "duration": 0.011813,
     "end_time": "2022-11-13T04:09:50.894090",
     "exception": false,
     "start_time": "2022-11-13T04:09:50.882277",
     "status": "completed"
    },
    "tags": []
   },
   "source": [
    "**This notebook is an exercise in the [Intermediate Machine Learning](https://www.kaggle.com/learn/intermediate-machine-learning) course.  You can reference the tutorial at [this link](https://www.kaggle.com/alexisbcook/missing-values).**\n",
    "\n",
    "---\n"
   ]
  },
  {
   "cell_type": "markdown",
   "id": "b58744bc",
   "metadata": {
    "papermill": {
     "duration": 0.011897,
     "end_time": "2022-11-13T04:09:50.916294",
     "exception": false,
     "start_time": "2022-11-13T04:09:50.904397",
     "status": "completed"
    },
    "tags": []
   },
   "source": [
    "Now it's your turn to test your new knowledge of **missing values** handling. You'll probably find it makes a big difference.\n",
    "\n",
    "# Setup\n",
    "\n",
    "The questions will give you feedback on your work. Run the following cell to set up the feedback system."
   ]
  },
  {
   "cell_type": "code",
   "execution_count": 1,
   "id": "f5eff7dc",
   "metadata": {
    "execution": {
     "iopub.execute_input": "2022-11-13T04:09:50.939701Z",
     "iopub.status.busy": "2022-11-13T04:09:50.938687Z",
     "iopub.status.idle": "2022-11-13T04:09:50.995451Z",
     "shell.execute_reply": "2022-11-13T04:09:50.994527Z"
    },
    "papermill": {
     "duration": 0.071501,
     "end_time": "2022-11-13T04:09:50.998154",
     "exception": false,
     "start_time": "2022-11-13T04:09:50.926653",
     "status": "completed"
    },
    "tags": []
   },
   "outputs": [
    {
     "name": "stdout",
     "output_type": "stream",
     "text": [
      "Setup Complete\n"
     ]
    }
   ],
   "source": [
    "# Set up code checking\n",
    "import os\n",
    "if not os.path.exists(\"../input/train.csv\"):\n",
    "    os.symlink(\"../input/home-data-for-ml-course/train.csv\", \"../input/train.csv\")  \n",
    "    os.symlink(\"../input/home-data-for-ml-course/test.csv\", \"../input/test.csv\") \n",
    "from learntools.core import binder\n",
    "binder.bind(globals())\n",
    "from learntools.ml_intermediate.ex2 import *\n",
    "print(\"Setup Complete\")"
   ]
  },
  {
   "cell_type": "markdown",
   "id": "35fefba5",
   "metadata": {
    "papermill": {
     "duration": 0.013036,
     "end_time": "2022-11-13T04:09:51.021925",
     "exception": false,
     "start_time": "2022-11-13T04:09:51.008889",
     "status": "completed"
    },
    "tags": []
   },
   "source": [
    "In this exercise, you will work with data from the [Housing Prices Competition for Kaggle Learn Users](https://www.kaggle.com/c/home-data-for-ml-course). \n",
    "\n",
    "![Ames Housing dataset image](https://i.imgur.com/lTJVG4e.png)\n",
    "\n",
    "Run the next code cell without changes to load the training and validation sets in `X_train`, `X_valid`, `y_train`, and `y_valid`.  The test set is loaded in `X_test`."
   ]
  },
  {
   "cell_type": "code",
   "execution_count": 2,
   "id": "725c98d3",
   "metadata": {
    "execution": {
     "iopub.execute_input": "2022-11-13T04:09:51.045177Z",
     "iopub.status.busy": "2022-11-13T04:09:51.044473Z",
     "iopub.status.idle": "2022-11-13T04:09:52.169465Z",
     "shell.execute_reply": "2022-11-13T04:09:52.168249Z"
    },
    "papermill": {
     "duration": 1.139697,
     "end_time": "2022-11-13T04:09:52.172148",
     "exception": false,
     "start_time": "2022-11-13T04:09:51.032451",
     "status": "completed"
    },
    "tags": []
   },
   "outputs": [],
   "source": [
    "import pandas as pd\n",
    "from sklearn.model_selection import train_test_split\n",
    "\n",
    "# Read the data\n",
    "X_full = pd.read_csv('../input/train.csv', index_col='Id')\n",
    "X_test_full = pd.read_csv('../input/test.csv', index_col='Id')\n",
    "\n",
    "# Remove rows with missing target, separate target from predictors\n",
    "X_full.dropna(axis=0, subset=['SalePrice'], inplace=True) # axis=0 means row and axis=1 means column, inplace=True means it will change the original data. Subset means it will only drop the rows that have missing values in the SalePrice column.\n",
    "y = X_full.SalePrice # y is the target, SalePrice is the column name\n",
    "X_full.drop(['SalePrice'], axis=1, inplace=True) # drop the SalePrice column from the original data\n",
    "\n",
    "# To keep things simple, we'll use only numerical predictors\n",
    "X = X_full.select_dtypes(exclude=['object']) # makes a copy of the data and selects only the columns with numerical data types. Here we are excluding the object data types (which are strings).\n",
    "\n",
    "X_test = X_test_full.select_dtypes(exclude=['object']) # makes a copy of the data and selects only the columns with numerical data types. Here we are excluding the object data types (which are strings).\n",
    "\n",
    "# Break off validation set from training data\n",
    "X_train, X_valid, y_train, y_valid = train_test_split(X, y, train_size=0.8, test_size=0.2, random_state=0)"
   ]
  },
  {
   "cell_type": "markdown",
   "id": "c9e8f8ab",
   "metadata": {
    "papermill": {
     "duration": 0.010509,
     "end_time": "2022-11-13T04:09:52.194378",
     "exception": false,
     "start_time": "2022-11-13T04:09:52.183869",
     "status": "completed"
    },
    "tags": []
   },
   "source": [
    "# > My Notes\n",
    "> how to possibly improv the above code improvement \n",
    ">\n",
    "> proposed datapipeline:\n",
    ">\n",
    "> - pass y with `inplace = true` to drop non-numrical col. \n",
    ">\n",
    "> in previous step `X_full.dropna(axis=0, subset=['SalePrice'], inplace=True)`, we drop rows with missing target feature however, does it drop non-numerical dat also? No. i.e.`2 billion usd` is non-numrecal"
   ]
  },
  {
   "cell_type": "code",
   "execution_count": 3,
   "id": "45f60bc5",
   "metadata": {
    "execution": {
     "iopub.execute_input": "2022-11-13T04:09:52.217156Z",
     "iopub.status.busy": "2022-11-13T04:09:52.216737Z",
     "iopub.status.idle": "2022-11-13T04:09:52.247963Z",
     "shell.execute_reply": "2022-11-13T04:09:52.246867Z"
    },
    "papermill": {
     "duration": 0.045727,
     "end_time": "2022-11-13T04:09:52.250566",
     "exception": false,
     "start_time": "2022-11-13T04:09:52.204839",
     "status": "completed"
    },
    "scrolled": true,
    "tags": []
   },
   "outputs": [
    {
     "data": {
      "text/html": [
       "<div>\n",
       "<style scoped>\n",
       "    .dataframe tbody tr th:only-of-type {\n",
       "        vertical-align: middle;\n",
       "    }\n",
       "\n",
       "    .dataframe tbody tr th {\n",
       "        vertical-align: top;\n",
       "    }\n",
       "\n",
       "    .dataframe thead th {\n",
       "        text-align: right;\n",
       "    }\n",
       "</style>\n",
       "<table border=\"1\" class=\"dataframe\">\n",
       "  <thead>\n",
       "    <tr style=\"text-align: right;\">\n",
       "      <th></th>\n",
       "      <th>MSSubClass</th>\n",
       "      <th>LotFrontage</th>\n",
       "      <th>LotArea</th>\n",
       "      <th>OverallQual</th>\n",
       "      <th>OverallCond</th>\n",
       "      <th>YearBuilt</th>\n",
       "      <th>YearRemodAdd</th>\n",
       "      <th>MasVnrArea</th>\n",
       "      <th>BsmtFinSF1</th>\n",
       "      <th>BsmtFinSF2</th>\n",
       "      <th>...</th>\n",
       "      <th>GarageArea</th>\n",
       "      <th>WoodDeckSF</th>\n",
       "      <th>OpenPorchSF</th>\n",
       "      <th>EnclosedPorch</th>\n",
       "      <th>3SsnPorch</th>\n",
       "      <th>ScreenPorch</th>\n",
       "      <th>PoolArea</th>\n",
       "      <th>MiscVal</th>\n",
       "      <th>MoSold</th>\n",
       "      <th>YrSold</th>\n",
       "    </tr>\n",
       "    <tr>\n",
       "      <th>Id</th>\n",
       "      <th></th>\n",
       "      <th></th>\n",
       "      <th></th>\n",
       "      <th></th>\n",
       "      <th></th>\n",
       "      <th></th>\n",
       "      <th></th>\n",
       "      <th></th>\n",
       "      <th></th>\n",
       "      <th></th>\n",
       "      <th></th>\n",
       "      <th></th>\n",
       "      <th></th>\n",
       "      <th></th>\n",
       "      <th></th>\n",
       "      <th></th>\n",
       "      <th></th>\n",
       "      <th></th>\n",
       "      <th></th>\n",
       "      <th></th>\n",
       "      <th></th>\n",
       "    </tr>\n",
       "  </thead>\n",
       "  <tbody>\n",
       "    <tr>\n",
       "      <th>619</th>\n",
       "      <td>20</td>\n",
       "      <td>90.0</td>\n",
       "      <td>11694</td>\n",
       "      <td>9</td>\n",
       "      <td>5</td>\n",
       "      <td>2007</td>\n",
       "      <td>2007</td>\n",
       "      <td>452.0</td>\n",
       "      <td>48</td>\n",
       "      <td>0</td>\n",
       "      <td>...</td>\n",
       "      <td>774</td>\n",
       "      <td>0</td>\n",
       "      <td>108</td>\n",
       "      <td>0</td>\n",
       "      <td>0</td>\n",
       "      <td>260</td>\n",
       "      <td>0</td>\n",
       "      <td>0</td>\n",
       "      <td>7</td>\n",
       "      <td>2007</td>\n",
       "    </tr>\n",
       "    <tr>\n",
       "      <th>871</th>\n",
       "      <td>20</td>\n",
       "      <td>60.0</td>\n",
       "      <td>6600</td>\n",
       "      <td>5</td>\n",
       "      <td>5</td>\n",
       "      <td>1962</td>\n",
       "      <td>1962</td>\n",
       "      <td>0.0</td>\n",
       "      <td>0</td>\n",
       "      <td>0</td>\n",
       "      <td>...</td>\n",
       "      <td>308</td>\n",
       "      <td>0</td>\n",
       "      <td>0</td>\n",
       "      <td>0</td>\n",
       "      <td>0</td>\n",
       "      <td>0</td>\n",
       "      <td>0</td>\n",
       "      <td>0</td>\n",
       "      <td>8</td>\n",
       "      <td>2009</td>\n",
       "    </tr>\n",
       "    <tr>\n",
       "      <th>93</th>\n",
       "      <td>30</td>\n",
       "      <td>80.0</td>\n",
       "      <td>13360</td>\n",
       "      <td>5</td>\n",
       "      <td>7</td>\n",
       "      <td>1921</td>\n",
       "      <td>2006</td>\n",
       "      <td>0.0</td>\n",
       "      <td>713</td>\n",
       "      <td>0</td>\n",
       "      <td>...</td>\n",
       "      <td>432</td>\n",
       "      <td>0</td>\n",
       "      <td>0</td>\n",
       "      <td>44</td>\n",
       "      <td>0</td>\n",
       "      <td>0</td>\n",
       "      <td>0</td>\n",
       "      <td>0</td>\n",
       "      <td>8</td>\n",
       "      <td>2009</td>\n",
       "    </tr>\n",
       "    <tr>\n",
       "      <th>818</th>\n",
       "      <td>20</td>\n",
       "      <td>NaN</td>\n",
       "      <td>13265</td>\n",
       "      <td>8</td>\n",
       "      <td>5</td>\n",
       "      <td>2002</td>\n",
       "      <td>2002</td>\n",
       "      <td>148.0</td>\n",
       "      <td>1218</td>\n",
       "      <td>0</td>\n",
       "      <td>...</td>\n",
       "      <td>857</td>\n",
       "      <td>150</td>\n",
       "      <td>59</td>\n",
       "      <td>0</td>\n",
       "      <td>0</td>\n",
       "      <td>0</td>\n",
       "      <td>0</td>\n",
       "      <td>0</td>\n",
       "      <td>7</td>\n",
       "      <td>2008</td>\n",
       "    </tr>\n",
       "    <tr>\n",
       "      <th>303</th>\n",
       "      <td>20</td>\n",
       "      <td>118.0</td>\n",
       "      <td>13704</td>\n",
       "      <td>7</td>\n",
       "      <td>5</td>\n",
       "      <td>2001</td>\n",
       "      <td>2002</td>\n",
       "      <td>150.0</td>\n",
       "      <td>0</td>\n",
       "      <td>0</td>\n",
       "      <td>...</td>\n",
       "      <td>843</td>\n",
       "      <td>468</td>\n",
       "      <td>81</td>\n",
       "      <td>0</td>\n",
       "      <td>0</td>\n",
       "      <td>0</td>\n",
       "      <td>0</td>\n",
       "      <td>0</td>\n",
       "      <td>1</td>\n",
       "      <td>2006</td>\n",
       "    </tr>\n",
       "  </tbody>\n",
       "</table>\n",
       "<p>5 rows × 36 columns</p>\n",
       "</div>"
      ],
      "text/plain": [
       "     MSSubClass  LotFrontage  LotArea  OverallQual  OverallCond  YearBuilt  \\\n",
       "Id                                                                           \n",
       "619          20         90.0    11694            9            5       2007   \n",
       "871          20         60.0     6600            5            5       1962   \n",
       "93           30         80.0    13360            5            7       1921   \n",
       "818          20          NaN    13265            8            5       2002   \n",
       "303          20        118.0    13704            7            5       2001   \n",
       "\n",
       "     YearRemodAdd  MasVnrArea  BsmtFinSF1  BsmtFinSF2  ...  GarageArea  \\\n",
       "Id                                                     ...               \n",
       "619          2007       452.0          48           0  ...         774   \n",
       "871          1962         0.0           0           0  ...         308   \n",
       "93           2006         0.0         713           0  ...         432   \n",
       "818          2002       148.0        1218           0  ...         857   \n",
       "303          2002       150.0           0           0  ...         843   \n",
       "\n",
       "     WoodDeckSF  OpenPorchSF  EnclosedPorch  3SsnPorch  ScreenPorch  PoolArea  \\\n",
       "Id                                                                              \n",
       "619           0          108              0          0          260         0   \n",
       "871           0            0              0          0            0         0   \n",
       "93            0            0             44          0            0         0   \n",
       "818         150           59              0          0            0         0   \n",
       "303         468           81              0          0            0         0   \n",
       "\n",
       "     MiscVal  MoSold  YrSold  \n",
       "Id                            \n",
       "619        0       7    2007  \n",
       "871        0       8    2009  \n",
       "93         0       8    2009  \n",
       "818        0       7    2008  \n",
       "303        0       1    2006  \n",
       "\n",
       "[5 rows x 36 columns]"
      ]
     },
     "execution_count": 3,
     "metadata": {},
     "output_type": "execute_result"
    }
   ],
   "source": [
    "X_train.head()"
   ]
  },
  {
   "cell_type": "markdown",
   "id": "f1d4f050",
   "metadata": {
    "papermill": {
     "duration": 0.010671,
     "end_time": "2022-11-13T04:09:52.272644",
     "exception": false,
     "start_time": "2022-11-13T04:09:52.261973",
     "status": "completed"
    },
    "tags": []
   },
   "source": [
    "You can already see a few missing values in the first several rows.  In the next step, you'll obtain a more comprehensive understanding of the missing values in the dataset.\n",
    "\n",
    "# Step 1: Preliminary investigation\n",
    "\n",
    "Run the code cell below without changes."
   ]
  },
  {
   "cell_type": "code",
   "execution_count": 4,
   "id": "1441f5ab",
   "metadata": {
    "execution": {
     "iopub.execute_input": "2022-11-13T04:09:52.296273Z",
     "iopub.status.busy": "2022-11-13T04:09:52.295845Z",
     "iopub.status.idle": "2022-11-13T04:09:52.304543Z",
     "shell.execute_reply": "2022-11-13T04:09:52.303134Z"
    },
    "papermill": {
     "duration": 0.024106,
     "end_time": "2022-11-13T04:09:52.307728",
     "exception": false,
     "start_time": "2022-11-13T04:09:52.283622",
     "status": "completed"
    },
    "tags": []
   },
   "outputs": [
    {
     "name": "stdout",
     "output_type": "stream",
     "text": [
      "(1168, 36)\n",
      "LotFrontage    212\n",
      "MasVnrArea       6\n",
      "GarageYrBlt     58\n",
      "dtype: int64\n"
     ]
    }
   ],
   "source": [
    "# Shape of training data (num_rows, num_columns)\n",
    "print(X_train.shape)\n",
    "\n",
    "# Number of missing values in each column of training data\n",
    "missing_val_count_by_column = (X_train.isnull().sum()) ## isnull() returns a boolean value for each cell in the dataframe. sum() returns the number of True values in each column.\n",
    "print(missing_val_count_by_column[missing_val_count_by_column > 0])"
   ]
  },
  {
   "cell_type": "markdown",
   "id": "9e9e3a5b",
   "metadata": {
    "papermill": {
     "duration": 0.010704,
     "end_time": "2022-11-13T04:09:52.329573",
     "exception": false,
     "start_time": "2022-11-13T04:09:52.318869",
     "status": "completed"
    },
    "tags": []
   },
   "source": [
    "### Part A\n",
    "\n",
    "Use the above output to answer the questions below."
   ]
  },
  {
   "cell_type": "code",
   "execution_count": 5,
   "id": "99d5553a",
   "metadata": {
    "execution": {
     "iopub.execute_input": "2022-11-13T04:09:52.353437Z",
     "iopub.status.busy": "2022-11-13T04:09:52.353045Z",
     "iopub.status.idle": "2022-11-13T04:09:52.366056Z",
     "shell.execute_reply": "2022-11-13T04:09:52.364615Z"
    },
    "papermill": {
     "duration": 0.028394,
     "end_time": "2022-11-13T04:09:52.368966",
     "exception": false,
     "start_time": "2022-11-13T04:09:52.340572",
     "status": "completed"
    },
    "tags": []
   },
   "outputs": [
    {
     "name": "stdout",
     "output_type": "stream",
     "text": [
      "num_rows: 1168\n",
      "num_cols_with_missing: 3\n",
      "tot_missing: 276\n"
     ]
    },
    {
     "data": {
      "application/javascript": [
       "parent.postMessage({\"jupyterEvent\": \"custom.exercise_interaction\", \"data\": {\"outcomeType\": 1, \"valueTowardsCompletion\": 1.0, \"interactionType\": 1, \"questionType\": 1, \"questionId\": \"1.1_InvestigateEquality\", \"learnToolsVersion\": \"0.3.4\", \"failureMessage\": \"\", \"exceptionClass\": \"\", \"trace\": \"\"}}, \"*\")"
      ],
      "text/plain": [
       "<IPython.core.display.Javascript object>"
      ]
     },
     "metadata": {},
     "output_type": "display_data"
    },
    {
     "data": {
      "text/markdown": [
       "<span style=\"color:#33cc33\">Correct</span>"
      ],
      "text/plain": [
       "Correct"
      ]
     },
     "metadata": {},
     "output_type": "display_data"
    }
   ],
   "source": [
    "# Fill in the line below: How many rows are in the training data?\n",
    "num_rows = X_train.shape[0] # it is 1168 because the shape is (1168, 37)\n",
    "print(\"num_rows:\", num_rows)\n",
    "\n",
    "# Fill in the line below: How many columns in the training data\n",
    "# have missing values?\n",
    "num_cols_with_missing = (missing_val_count_by_column[missing_val_count_by_column > 0]).shape[0] # it is 3 because the shape is (3,). see the output of the previous cell.\n",
    "print(\"num_cols_with_missing:\", num_cols_with_missing)\n",
    "\n",
    "# Fill in the line below: How many missing entries are contained in \n",
    "# all of the training data?\n",
    "tot_missing = missing_val_count_by_column.sum() # it is 6965 because the sum of the missing values is 6965\n",
    "print(\"tot_missing:\", tot_missing)\n",
    "\n",
    "# Check your answers\n",
    "step_1.a.check()"
   ]
  },
  {
   "cell_type": "code",
   "execution_count": 6,
   "id": "636d367e",
   "metadata": {
    "execution": {
     "iopub.execute_input": "2022-11-13T04:09:52.393740Z",
     "iopub.status.busy": "2022-11-13T04:09:52.393336Z",
     "iopub.status.idle": "2022-11-13T04:09:52.397863Z",
     "shell.execute_reply": "2022-11-13T04:09:52.396700Z"
    },
    "papermill": {
     "duration": 0.01976,
     "end_time": "2022-11-13T04:09:52.400234",
     "exception": false,
     "start_time": "2022-11-13T04:09:52.380474",
     "status": "completed"
    },
    "tags": []
   },
   "outputs": [],
   "source": [
    "# Lines below will give you a hint or solution code\n",
    "# step_1.a.hint()\n",
    "# step_1.a.solution()"
   ]
  },
  {
   "cell_type": "markdown",
   "id": "4327adb8",
   "metadata": {
    "papermill": {
     "duration": 0.010983,
     "end_time": "2022-11-13T04:09:52.422615",
     "exception": false,
     "start_time": "2022-11-13T04:09:52.411632",
     "status": "completed"
    },
    "tags": []
   },
   "source": [
    "### Part B\n",
    "Considering your answers above, what do you think is likely the best approach to dealing with the missing values?"
   ]
  },
  {
   "cell_type": "markdown",
   "id": "1d2a706b",
   "metadata": {
    "papermill": {
     "duration": 0.011089,
     "end_time": "2022-11-13T04:09:52.445390",
     "exception": false,
     "start_time": "2022-11-13T04:09:52.434301",
     "status": "completed"
    },
    "tags": []
   },
   "source": [
    "# > my code: \n",
    "\n",
    "First find, the percentage of missing values per each column of the dataset."
   ]
  },
  {
   "cell_type": "code",
   "execution_count": 7,
   "id": "34b86436",
   "metadata": {
    "execution": {
     "iopub.execute_input": "2022-11-13T04:09:52.469860Z",
     "iopub.status.busy": "2022-11-13T04:09:52.469430Z",
     "iopub.status.idle": "2022-11-13T04:09:52.479507Z",
     "shell.execute_reply": "2022-11-13T04:09:52.478089Z"
    },
    "papermill": {
     "duration": 0.025248,
     "end_time": "2022-11-13T04:09:52.481918",
     "exception": false,
     "start_time": "2022-11-13T04:09:52.456670",
     "status": "completed"
    },
    "tags": []
   },
   "outputs": [
    {
     "name": "stdout",
     "output_type": "stream",
     "text": [
      "LotFrontage    18.2%\n",
      "MasVnrArea      0.5%\n",
      "GarageYrBlt     5.0%\n",
      "dtype: object\n"
     ]
    }
   ],
   "source": [
    "# percentage of missing values in each column of training data \n",
    "missing_val_percent_by_column = (X_train.isnull().sum()) / num_rows * 100\n",
    "\n",
    "# print the above results using the round function and concatenate  \"%\" to the end of the string\n",
    "\n",
    "print(round(missing_val_percent_by_column[missing_val_percent_by_column > 0], 1).astype(str) + \"%\")"
   ]
  },
  {
   "cell_type": "markdown",
   "id": "54cdf52c",
   "metadata": {
    "papermill": {
     "duration": 0.012505,
     "end_time": "2022-11-13T04:09:52.505765",
     "exception": false,
     "start_time": "2022-11-13T04:09:52.493260",
     "status": "completed"
    },
    "tags": []
   },
   "source": [
    "# > My notes\n",
    "\n",
    ">The percentage of missing values in each column is shown above.  The columns are sorted in descending order by the percentage of missing values. Note that the `SalePrice` column is the target, which is not missing any values.\n",
    "\n",
    ">The percentage of missing values in each column are low enough that you can drop the rows with missing values.  You can do this by setting the `dropna` argument to `True` in the `get_numeric_data()` method.  This will drop all the columns with missing values.  You can also drop the columns with missing values by setting the `drop` argument to `True` in the `dropna()` method.  This will drop all the rows with missing values.\n",
    "\n",
    ">Here we are going to use imputation.  Imputation fills in the missing values with some number.  The imputed value won't be exactly right in most cases, but it usually leads to more accurate models than you would get from dropping the column entirely. We will use the `SimpleImputer` class from scikit-learn to impute the missing values.  The code below will impute the missing values with the mean value along each column.  You can read more about the `SimpleImputer` class [here](https://scikit-learn.org/stable/modules/generated/sklearn.impute.SimpleImputer.html?highlight=simpleimputer#sklearn.impute.SimpleImputer).\n",
    "\n",
    ">We should keep in mind that the test set will have missing values in the same columns as the training set. So, we'll need to handle the missing values in the test set in the same way you handle the missing values in the training set.\n",
    "\n"
   ]
  },
  {
   "cell_type": "code",
   "execution_count": 8,
   "id": "ea9d5b74",
   "metadata": {
    "execution": {
     "iopub.execute_input": "2022-11-13T04:09:52.538871Z",
     "iopub.status.busy": "2022-11-13T04:09:52.537498Z",
     "iopub.status.idle": "2022-11-13T04:09:52.548689Z",
     "shell.execute_reply": "2022-11-13T04:09:52.547139Z"
    },
    "papermill": {
     "duration": 0.029836,
     "end_time": "2022-11-13T04:09:52.551303",
     "exception": false,
     "start_time": "2022-11-13T04:09:52.521467",
     "status": "completed"
    },
    "tags": []
   },
   "outputs": [
    {
     "data": {
      "application/javascript": [
       "parent.postMessage({\"jupyterEvent\": \"custom.exercise_interaction\", \"data\": {\"outcomeType\": 1, \"valueTowardsCompletion\": 1.0, \"interactionType\": 1, \"questionType\": 4, \"questionId\": \"1.2_InvestigateThought\", \"learnToolsVersion\": \"0.3.4\", \"failureMessage\": \"\", \"exceptionClass\": \"\", \"trace\": \"\"}}, \"*\")"
      ],
      "text/plain": [
       "<IPython.core.display.Javascript object>"
      ]
     },
     "metadata": {},
     "output_type": "display_data"
    },
    {
     "data": {
      "text/markdown": [
       "<span style=\"color:#33cc33\">Correct:</span> \n",
       "\n",
       "Since there are relatively few missing entries in the data (the column with the greatest percentage of missing values is missing less than 20% of its entries), we can expect that dropping columns is unlikely to yield good results.  This is because we'd be throwing away a lot of valuable data, and so imputation will likely perform better."
      ],
      "text/plain": [
       "Correct: \n",
       "\n",
       "Since there are relatively few missing entries in the data (the column with the greatest percentage of missing values is missing less than 20% of its entries), we can expect that dropping columns is unlikely to yield good results.  This is because we'd be throwing away a lot of valuable data, and so imputation will likely perform better."
      ]
     },
     "metadata": {},
     "output_type": "display_data"
    }
   ],
   "source": [
    "# Check your answer (Run this code cell to receive credit!)\n",
    "step_1.b.check()"
   ]
  },
  {
   "cell_type": "code",
   "execution_count": 9,
   "id": "99fb6c5b",
   "metadata": {
    "execution": {
     "iopub.execute_input": "2022-11-13T04:09:52.584416Z",
     "iopub.status.busy": "2022-11-13T04:09:52.583618Z",
     "iopub.status.idle": "2022-11-13T04:09:52.593707Z",
     "shell.execute_reply": "2022-11-13T04:09:52.592464Z"
    },
    "papermill": {
     "duration": 0.025893,
     "end_time": "2022-11-13T04:09:52.596159",
     "exception": false,
     "start_time": "2022-11-13T04:09:52.570266",
     "status": "completed"
    },
    "tags": []
   },
   "outputs": [
    {
     "data": {
      "application/javascript": [
       "parent.postMessage({\"jupyterEvent\": \"custom.exercise_interaction\", \"data\": {\"interactionType\": 2, \"questionType\": 4, \"questionId\": \"1.2_InvestigateThought\", \"learnToolsVersion\": \"0.3.4\", \"valueTowardsCompletion\": 0.0, \"failureMessage\": \"\", \"exceptionClass\": \"\", \"trace\": \"\", \"outcomeType\": 4}}, \"*\")"
      ],
      "text/plain": [
       "<IPython.core.display.Javascript object>"
      ]
     },
     "metadata": {},
     "output_type": "display_data"
    },
    {
     "data": {
      "text/markdown": [
       "<span style=\"color:#3366cc\">Hint:</span> Does the dataset have a lot of missing values, or just a few?  Would we lose much information if we completely ignored the columns with missing entries?"
      ],
      "text/plain": [
       "Hint: Does the dataset have a lot of missing values, or just a few?  Would we lose much information if we completely ignored the columns with missing entries?"
      ]
     },
     "metadata": {},
     "output_type": "display_data"
    }
   ],
   "source": [
    "step_1.b.hint()"
   ]
  },
  {
   "cell_type": "markdown",
   "id": "9e2a015a",
   "metadata": {
    "papermill": {
     "duration": 0.01145,
     "end_time": "2022-11-13T04:09:52.619353",
     "exception": false,
     "start_time": "2022-11-13T04:09:52.607903",
     "status": "completed"
    },
    "tags": []
   },
   "source": [
    "To compare different approaches to dealing with missing values, you'll use the same `score_dataset()` function from the tutorial.  This function reports the [mean absolute error](https://en.wikipedia.org/wiki/Mean_absolute_error) (MAE) from a random forest model."
   ]
  },
  {
   "cell_type": "code",
   "execution_count": 10,
   "id": "3b202cc1",
   "metadata": {
    "execution": {
     "iopub.execute_input": "2022-11-13T04:09:52.645693Z",
     "iopub.status.busy": "2022-11-13T04:09:52.645305Z",
     "iopub.status.idle": "2022-11-13T04:09:52.856567Z",
     "shell.execute_reply": "2022-11-13T04:09:52.855312Z"
    },
    "papermill": {
     "duration": 0.227234,
     "end_time": "2022-11-13T04:09:52.859439",
     "exception": false,
     "start_time": "2022-11-13T04:09:52.632205",
     "status": "completed"
    },
    "tags": []
   },
   "outputs": [],
   "source": [
    "from sklearn.ensemble import RandomForestRegressor\n",
    "from sklearn.metrics import mean_absolute_error\n",
    "\n",
    "# Function for comparing different approaches\n",
    "def score_dataset(X_train, X_valid, y_train, y_valid):\n",
    "    model = RandomForestRegressor(n_estimators=100, random_state=0)\n",
    "    model.fit(X_train, y_train)\n",
    "    preds = model.predict(X_valid)\n",
    "    return mean_absolute_error(y_valid, preds)"
   ]
  },
  {
   "cell_type": "markdown",
   "id": "f9cbc66e",
   "metadata": {
    "papermill": {
     "duration": 0.016367,
     "end_time": "2022-11-13T04:09:52.887809",
     "exception": false,
     "start_time": "2022-11-13T04:09:52.871442",
     "status": "completed"
    },
    "tags": []
   },
   "source": [
    "# Step 2: Drop columns with missing values\n",
    "\n",
    "In this step, you'll preprocess the data in `X_train` and `X_valid` to remove columns with missing values.  Set the preprocessed DataFrames to `reduced_X_train` and `reduced_X_valid`, respectively.  "
   ]
  },
  {
   "cell_type": "code",
   "execution_count": 11,
   "id": "4c602c0b",
   "metadata": {
    "execution": {
     "iopub.execute_input": "2022-11-13T04:09:52.918312Z",
     "iopub.status.busy": "2022-11-13T04:09:52.917852Z",
     "iopub.status.idle": "2022-11-13T04:09:52.961610Z",
     "shell.execute_reply": "2022-11-13T04:09:52.960198Z"
    },
    "papermill": {
     "duration": 0.063697,
     "end_time": "2022-11-13T04:09:52.964236",
     "exception": false,
     "start_time": "2022-11-13T04:09:52.900539",
     "status": "completed"
    },
    "tags": []
   },
   "outputs": [
    {
     "name": "stdout",
     "output_type": "stream",
     "text": [
      "cols_with_missing: ['LotFrontage', 'MasVnrArea', 'GarageYrBlt']\n"
     ]
    },
    {
     "data": {
      "application/javascript": [
       "parent.postMessage({\"jupyterEvent\": \"custom.exercise_interaction\", \"data\": {\"outcomeType\": 1, \"valueTowardsCompletion\": 1.0, \"interactionType\": 1, \"questionType\": 2, \"questionId\": \"2_DropMissing\", \"learnToolsVersion\": \"0.3.4\", \"failureMessage\": \"\", \"exceptionClass\": \"\", \"trace\": \"\"}}, \"*\")"
      ],
      "text/plain": [
       "<IPython.core.display.Javascript object>"
      ]
     },
     "metadata": {},
     "output_type": "display_data"
    },
    {
     "data": {
      "text/markdown": [
       "<span style=\"color:#33cc33\">Correct</span>"
      ],
      "text/plain": [
       "Correct"
      ]
     },
     "metadata": {},
     "output_type": "display_data"
    }
   ],
   "source": [
    "# Fill in the line below: get names of columns with missing values\n",
    "cols_with_missing = [col for col in X_train.columns\n",
    "                        if X_train[col].isnull().any()]\n",
    "\n",
    "print('cols_with_missing:', cols_with_missing)\n",
    "\n",
    "# Fill in the lines below: drop columns in training and validation data\n",
    "reduced_X_train = X_train.drop(cols_with_missing, axis=1)\n",
    "reduced_X_valid = X_valid.drop(cols_with_missing, axis=1)\n",
    "\n",
    "# Check your answers\n",
    "step_2.check()"
   ]
  },
  {
   "cell_type": "code",
   "execution_count": 12,
   "id": "47ac29b5",
   "metadata": {
    "execution": {
     "iopub.execute_input": "2022-11-13T04:09:52.994317Z",
     "iopub.status.busy": "2022-11-13T04:09:52.993444Z",
     "iopub.status.idle": "2022-11-13T04:09:53.007588Z",
     "shell.execute_reply": "2022-11-13T04:09:53.006537Z"
    },
    "papermill": {
     "duration": 0.032463,
     "end_time": "2022-11-13T04:09:53.009929",
     "exception": false,
     "start_time": "2022-11-13T04:09:52.977466",
     "status": "completed"
    },
    "tags": []
   },
   "outputs": [
    {
     "data": {
      "application/javascript": [
       "parent.postMessage({\"jupyterEvent\": \"custom.exercise_interaction\", \"data\": {\"interactionType\": 2, \"questionType\": 2, \"questionId\": \"2_DropMissing\", \"learnToolsVersion\": \"0.3.4\", \"valueTowardsCompletion\": 0.0, \"failureMessage\": \"\", \"exceptionClass\": \"\", \"trace\": \"\", \"outcomeType\": 4}}, \"*\")"
      ],
      "text/plain": [
       "<IPython.core.display.Javascript object>"
      ]
     },
     "metadata": {},
     "output_type": "display_data"
    },
    {
     "data": {
      "text/markdown": [
       "<span style=\"color:#3366cc\">Hint:</span> Begin by finding the list of columns in the data with missing values.  Then, drop these columns in both the training and validation data with the `drop()` method."
      ],
      "text/plain": [
       "Hint: Begin by finding the list of columns in the data with missing values.  Then, drop these columns in both the training and validation data with the `drop()` method."
      ]
     },
     "metadata": {},
     "output_type": "display_data"
    },
    {
     "data": {
      "application/javascript": [
       "parent.postMessage({\"jupyterEvent\": \"custom.exercise_interaction\", \"data\": {\"interactionType\": 3, \"questionType\": 2, \"questionId\": \"2_DropMissing\", \"learnToolsVersion\": \"0.3.4\", \"valueTowardsCompletion\": 0.0, \"failureMessage\": \"\", \"exceptionClass\": \"\", \"trace\": \"\", \"outcomeType\": 4}}, \"*\")"
      ],
      "text/plain": [
       "<IPython.core.display.Javascript object>"
      ]
     },
     "metadata": {},
     "output_type": "display_data"
    },
    {
     "data": {
      "text/markdown": [
       "<span style=\"color:#33cc99\">Solution:</span> \n",
       "```python\n",
       "# Get names of columns with missing values\n",
       "cols_with_missing = [col for col in X_train.columns\n",
       "                     if X_train[col].isnull().any()]\n",
       "\n",
       "# Drop columns in training and validation data\n",
       "reduced_X_train = X_train.drop(cols_with_missing, axis=1)\n",
       "reduced_X_valid = X_valid.drop(cols_with_missing, axis=1)\n",
       "\n",
       "```"
      ],
      "text/plain": [
       "Solution: \n",
       "```python\n",
       "# Get names of columns with missing values\n",
       "cols_with_missing = [col for col in X_train.columns\n",
       "                     if X_train[col].isnull().any()]\n",
       "\n",
       "# Drop columns in training and validation data\n",
       "reduced_X_train = X_train.drop(cols_with_missing, axis=1)\n",
       "reduced_X_valid = X_valid.drop(cols_with_missing, axis=1)\n",
       "\n",
       "```"
      ]
     },
     "metadata": {},
     "output_type": "display_data"
    }
   ],
   "source": [
    "# Lines below will give you a hint or solution code\n",
    "step_2.hint()\n",
    "step_2.solution()"
   ]
  },
  {
   "cell_type": "markdown",
   "id": "8981b643",
   "metadata": {
    "papermill": {
     "duration": 0.01218,
     "end_time": "2022-11-13T04:09:53.035082",
     "exception": false,
     "start_time": "2022-11-13T04:09:53.022902",
     "status": "completed"
    },
    "tags": []
   },
   "source": [
    "Run the next code cell without changes to obtain the MAE for this approach."
   ]
  },
  {
   "cell_type": "code",
   "execution_count": 13,
   "id": "7cd909d0",
   "metadata": {
    "execution": {
     "iopub.execute_input": "2022-11-13T04:09:53.064406Z",
     "iopub.status.busy": "2022-11-13T04:09:53.063718Z",
     "iopub.status.idle": "2022-11-13T04:09:54.196131Z",
     "shell.execute_reply": "2022-11-13T04:09:54.194720Z"
    },
    "papermill": {
     "duration": 1.151332,
     "end_time": "2022-11-13T04:09:54.198864",
     "exception": false,
     "start_time": "2022-11-13T04:09:53.047532",
     "status": "completed"
    },
    "tags": []
   },
   "outputs": [
    {
     "name": "stdout",
     "output_type": "stream",
     "text": [
      "MAE (Drop columns with missing values):\n",
      "17837.82570776256\n"
     ]
    }
   ],
   "source": [
    "print(\"MAE (Drop columns with missing values):\")\n",
    "print(score_dataset(reduced_X_train, reduced_X_valid, y_train, y_valid))"
   ]
  },
  {
   "cell_type": "markdown",
   "id": "d137b34a",
   "metadata": {
    "papermill": {
     "duration": 0.01212,
     "end_time": "2022-11-13T04:09:54.223709",
     "exception": false,
     "start_time": "2022-11-13T04:09:54.211589",
     "status": "completed"
    },
    "tags": []
   },
   "source": [
    "# Step 3: Imputation\n",
    "\n",
    "### Part A\n",
    "\n",
    "Use the next code cell to impute missing values with the mean value along each column.  Set the preprocessed DataFrames to `imputed_X_train` and `imputed_X_valid`.  Make sure that the column names match those in `X_train` and `X_valid`."
   ]
  },
  {
   "cell_type": "code",
   "execution_count": 14,
   "id": "7de1af4a",
   "metadata": {
    "execution": {
     "iopub.execute_input": "2022-11-13T04:09:54.250790Z",
     "iopub.status.busy": "2022-11-13T04:09:54.250408Z",
     "iopub.status.idle": "2022-11-13T04:09:54.285210Z",
     "shell.execute_reply": "2022-11-13T04:09:54.284311Z"
    },
    "papermill": {
     "duration": 0.050884,
     "end_time": "2022-11-13T04:09:54.287296",
     "exception": false,
     "start_time": "2022-11-13T04:09:54.236412",
     "status": "completed"
    },
    "tags": []
   },
   "outputs": [
    {
     "data": {
      "application/javascript": [
       "parent.postMessage({\"jupyterEvent\": \"custom.exercise_interaction\", \"data\": {\"outcomeType\": 1, \"valueTowardsCompletion\": 1.0, \"interactionType\": 1, \"questionType\": 2, \"questionId\": \"3.1_ImputeCode\", \"learnToolsVersion\": \"0.3.4\", \"failureMessage\": \"\", \"exceptionClass\": \"\", \"trace\": \"\"}}, \"*\")"
      ],
      "text/plain": [
       "<IPython.core.display.Javascript object>"
      ]
     },
     "metadata": {},
     "output_type": "display_data"
    },
    {
     "data": {
      "text/markdown": [
       "<span style=\"color:#33cc33\">Correct</span>"
      ],
      "text/plain": [
       "Correct"
      ]
     },
     "metadata": {},
     "output_type": "display_data"
    }
   ],
   "source": [
    "from sklearn.impute import SimpleImputer\n",
    "\n",
    "# Fill in the lines below: imputation\n",
    "my_imputer = SimpleImputer()\n",
    "imputed_X_train = pd.DataFrame(my_imputer.fit_transform(X_train)) # impute the training data\n",
    "imputed_X_valid = pd.DataFrame(my_imputer.transform(X_valid)) # impute the validation data\n",
    "\n",
    "\n",
    "# Fill in the lines below: imputation removed column names; put them back\n",
    "imputed_X_train.columns = X_train.columns  # add the column names back to the imputed training data\n",
    "imputed_X_valid.columns = X_valid.columns # add the column names back to the imputed validation data\n",
    "\n",
    "\n",
    "# Check your answers\n",
    "step_3.a.check()"
   ]
  },
  {
   "cell_type": "code",
   "execution_count": 15,
   "id": "8de7393d",
   "metadata": {
    "execution": {
     "iopub.execute_input": "2022-11-13T04:09:54.315090Z",
     "iopub.status.busy": "2022-11-13T04:09:54.314353Z",
     "iopub.status.idle": "2022-11-13T04:09:54.318571Z",
     "shell.execute_reply": "2022-11-13T04:09:54.317435Z"
    },
    "papermill": {
     "duration": 0.020764,
     "end_time": "2022-11-13T04:09:54.320957",
     "exception": false,
     "start_time": "2022-11-13T04:09:54.300193",
     "status": "completed"
    },
    "tags": []
   },
   "outputs": [],
   "source": [
    "# Lines below will give you a hint or solution code\n",
    "#step_3.a.hint()\n",
    "#step_3.a.solution()"
   ]
  },
  {
   "cell_type": "markdown",
   "id": "9c69a296",
   "metadata": {
    "papermill": {
     "duration": 0.012482,
     "end_time": "2022-11-13T04:09:54.346534",
     "exception": false,
     "start_time": "2022-11-13T04:09:54.334052",
     "status": "completed"
    },
    "tags": []
   },
   "source": [
    "# > my code\n",
    "Displaying mean values for each column where there are missing values:"
   ]
  },
  {
   "cell_type": "code",
   "execution_count": 16,
   "id": "916b7a40",
   "metadata": {
    "execution": {
     "iopub.execute_input": "2022-11-13T04:09:54.375594Z",
     "iopub.status.busy": "2022-11-13T04:09:54.374889Z",
     "iopub.status.idle": "2022-11-13T04:09:54.382167Z",
     "shell.execute_reply": "2022-11-13T04:09:54.380703Z"
    },
    "papermill": {
     "duration": 0.025127,
     "end_time": "2022-11-13T04:09:54.385365",
     "exception": false,
     "start_time": "2022-11-13T04:09:54.360238",
     "status": "completed"
    },
    "tags": []
   },
   "outputs": [
    {
     "name": "stdout",
     "output_type": "stream",
     "text": [
      "LotFrontage mean: 69.61401673640168\n",
      "MasVnrArea mean: 103.48106712564544\n",
      "GarageYrBlt mean: 1978.1405405405405\n"
     ]
    }
   ],
   "source": [
    "print(\"LotFrontage mean:\", X_train['LotFrontage'].mean())\n",
    "print(\"MasVnrArea mean:\", X_train['MasVnrArea'].mean())\n",
    "print(\"GarageYrBlt mean:\", X_train['GarageYrBlt'].mean())"
   ]
  },
  {
   "cell_type": "markdown",
   "id": "b011403d",
   "metadata": {
    "papermill": {
     "duration": 0.012512,
     "end_time": "2022-11-13T04:09:54.411716",
     "exception": false,
     "start_time": "2022-11-13T04:09:54.399204",
     "status": "completed"
    },
    "tags": []
   },
   "source": [
    "Run the next code cell without changes to obtain the MAE for this approach."
   ]
  },
  {
   "cell_type": "code",
   "execution_count": 17,
   "id": "380ef9c7",
   "metadata": {
    "execution": {
     "iopub.execute_input": "2022-11-13T04:09:54.439238Z",
     "iopub.status.busy": "2022-11-13T04:09:54.438817Z",
     "iopub.status.idle": "2022-11-13T04:09:55.680265Z",
     "shell.execute_reply": "2022-11-13T04:09:55.679064Z"
    },
    "papermill": {
     "duration": 1.259174,
     "end_time": "2022-11-13T04:09:55.683771",
     "exception": false,
     "start_time": "2022-11-13T04:09:54.424597",
     "status": "completed"
    },
    "tags": []
   },
   "outputs": [
    {
     "name": "stdout",
     "output_type": "stream",
     "text": [
      "MAE (Imputation):\n",
      "18062.894611872147\n"
     ]
    }
   ],
   "source": [
    "print(\"MAE (Imputation):\")\n",
    "print(score_dataset(imputed_X_train, imputed_X_valid, y_train, y_valid))"
   ]
  },
  {
   "cell_type": "markdown",
   "id": "769d83a6",
   "metadata": {
    "papermill": {
     "duration": 0.013031,
     "end_time": "2022-11-13T04:09:55.710490",
     "exception": false,
     "start_time": "2022-11-13T04:09:55.697459",
     "status": "completed"
    },
    "tags": []
   },
   "source": [
    "### Part B\n",
    "\n",
    "Compare the MAE from each approach.  Does anything surprise you about the results?  Why do you think one approach performed better than the other?"
   ]
  },
  {
   "cell_type": "markdown",
   "id": "3a4cdce0",
   "metadata": {
    "papermill": {
     "duration": 0.012539,
     "end_time": "2022-11-13T04:09:55.736830",
     "exception": false,
     "start_time": "2022-11-13T04:09:55.724291",
     "status": "completed"
    },
    "tags": []
   },
   "source": [
    "# > my code\n",
    "Displaying mean values for each column where there are missing values:"
   ]
  },
  {
   "cell_type": "code",
   "execution_count": 18,
   "id": "f2c5db77",
   "metadata": {
    "execution": {
     "iopub.execute_input": "2022-11-13T04:09:55.764717Z",
     "iopub.status.busy": "2022-11-13T04:09:55.764319Z",
     "iopub.status.idle": "2022-11-13T04:09:59.171776Z",
     "shell.execute_reply": "2022-11-13T04:09:59.170259Z"
    },
    "papermill": {
     "duration": 3.42485,
     "end_time": "2022-11-13T04:09:59.174508",
     "exception": false,
     "start_time": "2022-11-13T04:09:55.749658",
     "status": "completed"
    },
    "tags": []
   },
   "outputs": [
    {
     "name": "stdout",
     "output_type": "stream",
     "text": [
      "MAE (Imputation):\n",
      "18062.894611872147\n",
      "MAE (Reduced):\n",
      "17837.82570776256\n"
     ]
    }
   ],
   "source": [
    "MAE_imputed = score_dataset(imputed_X_train, imputed_X_valid, y_train, y_valid)\n",
    "print(\"MAE (Imputation):\")\n",
    "print(MAE_imputed)\n",
    "      \n",
    "MAE_reduced = score_dataset(reduced_X_train, reduced_X_valid, y_train, y_valid)\n",
    "print(\"MAE (Reduced):\")\n",
    "print(score_dataset(reduced_X_train, reduced_X_valid, y_train, y_valid))\n"
   ]
  },
  {
   "cell_type": "code",
   "execution_count": 19,
   "id": "dfbeb726",
   "metadata": {
    "execution": {
     "iopub.execute_input": "2022-11-13T04:09:59.203731Z",
     "iopub.status.busy": "2022-11-13T04:09:59.203340Z",
     "iopub.status.idle": "2022-11-13T04:10:01.524341Z",
     "shell.execute_reply": "2022-11-13T04:10:01.522349Z"
    },
    "papermill": {
     "duration": 2.339768,
     "end_time": "2022-11-13T04:10:01.528127",
     "exception": false,
     "start_time": "2022-11-13T04:09:59.188359",
     "status": "completed"
    },
    "tags": []
   },
   "outputs": [
    {
     "name": "stdout",
     "output_type": "stream",
     "text": [
      "MAE (Imputation) - MAE (Drop columns with missing values):\n",
      "225.06890410958658\n"
     ]
    }
   ],
   "source": [
    "# MAE (Imputation) - MAE (Drop columns with missing values)\n",
    "print(\"MAE (Imputation) - MAE (Drop columns with missing values):\")\n",
    "print(score_dataset(imputed_X_train, imputed_X_valid, y_train, y_valid) - score_dataset(reduced_X_train, reduced_X_valid, y_train, y_valid))"
   ]
  },
  {
   "cell_type": "markdown",
   "id": "010079d1",
   "metadata": {
    "papermill": {
     "duration": 0.013523,
     "end_time": "2022-11-13T04:10:01.555373",
     "exception": false,
     "start_time": "2022-11-13T04:10:01.541850",
     "status": "completed"
    },
    "tags": []
   },
   "source": [
    "# > my notes\n",
    "\n",
    "> The MAE (Dropping columns with missing values) is 17837.83, while the MAE (Imputation) is 18062.89.  The MAE from dropping columns is lower, so this approach appears to give more accurate models.  However, the difference in MAE isn't large, so your choice of approach will probably depend on what you're trying to do. If speed is important, then dropping columns will be faster.  If missing values are rare, then dropping rows might be reasonable.  If most values are missing, then imputation will probably give more accurate models. And if some values are missing at random, then imputation will probably give more accurate models."
   ]
  },
  {
   "cell_type": "code",
   "execution_count": 20,
   "id": "f2a3301d",
   "metadata": {
    "execution": {
     "iopub.execute_input": "2022-11-13T04:10:01.584384Z",
     "iopub.status.busy": "2022-11-13T04:10:01.583512Z",
     "iopub.status.idle": "2022-11-13T04:10:01.591846Z",
     "shell.execute_reply": "2022-11-13T04:10:01.590529Z"
    },
    "papermill": {
     "duration": 0.025335,
     "end_time": "2022-11-13T04:10:01.594194",
     "exception": false,
     "start_time": "2022-11-13T04:10:01.568859",
     "status": "completed"
    },
    "tags": []
   },
   "outputs": [
    {
     "data": {
      "application/javascript": [
       "parent.postMessage({\"jupyterEvent\": \"custom.exercise_interaction\", \"data\": {\"outcomeType\": 1, \"valueTowardsCompletion\": 1.0, \"interactionType\": 1, \"questionType\": 4, \"questionId\": \"3.2_ImputeThought\", \"learnToolsVersion\": \"0.3.4\", \"failureMessage\": \"\", \"exceptionClass\": \"\", \"trace\": \"\"}}, \"*\")"
      ],
      "text/plain": [
       "<IPython.core.display.Javascript object>"
      ]
     },
     "metadata": {},
     "output_type": "display_data"
    },
    {
     "data": {
      "text/markdown": [
       "<span style=\"color:#33cc33\">Correct:</span> \n",
       "\n",
       "Given that thre are so few missing values in the dataset, we'd expect imputation to perform better than dropping columns entirely.  However, we see that dropping columns performs slightly better!  While this can probably partially be attributed to noise in the dataset, another potential explanation is that the imputation method is not a great match to this dataset.  That is, maybe instead of filling in the mean value, it makes more sense to set every missing value to a value of 0, to fill in the most frequently encountered value, or to use some other method.  For instance, consider the `GarageYrBlt` column (which indicates the year that the garage was built).  It's likely that in some cases, a missing value could indicate a house that does not have a garage.  Does it make more sense to fill in the median value along each column in this case?  Or could we get better results by filling in the minimum value along each column?  It's not quite clear what's best in this case, but perhaps we can rule out some options immediately - for instance, setting missing values in this column to 0 is likely to yield horrible results!"
      ],
      "text/plain": [
       "Correct: \n",
       "\n",
       "Given that thre are so few missing values in the dataset, we'd expect imputation to perform better than dropping columns entirely.  However, we see that dropping columns performs slightly better!  While this can probably partially be attributed to noise in the dataset, another potential explanation is that the imputation method is not a great match to this dataset.  That is, maybe instead of filling in the mean value, it makes more sense to set every missing value to a value of 0, to fill in the most frequently encountered value, or to use some other method.  For instance, consider the `GarageYrBlt` column (which indicates the year that the garage was built).  It's likely that in some cases, a missing value could indicate a house that does not have a garage.  Does it make more sense to fill in the median value along each column in this case?  Or could we get better results by filling in the minimum value along each column?  It's not quite clear what's best in this case, but perhaps we can rule out some options immediately - for instance, setting missing values in this column to 0 is likely to yield horrible results!"
      ]
     },
     "metadata": {},
     "output_type": "display_data"
    }
   ],
   "source": [
    "# Check your answer (Run this code cell to receive credit!)\n",
    "step_3.b.check()"
   ]
  },
  {
   "cell_type": "code",
   "execution_count": 21,
   "id": "97402f0a",
   "metadata": {
    "execution": {
     "iopub.execute_input": "2022-11-13T04:10:01.624747Z",
     "iopub.status.busy": "2022-11-13T04:10:01.624090Z",
     "iopub.status.idle": "2022-11-13T04:10:01.633279Z",
     "shell.execute_reply": "2022-11-13T04:10:01.632043Z"
    },
    "papermill": {
     "duration": 0.027784,
     "end_time": "2022-11-13T04:10:01.635599",
     "exception": false,
     "start_time": "2022-11-13T04:10:01.607815",
     "status": "completed"
    },
    "tags": []
   },
   "outputs": [
    {
     "data": {
      "application/javascript": [
       "parent.postMessage({\"jupyterEvent\": \"custom.exercise_interaction\", \"data\": {\"interactionType\": 2, \"questionType\": 4, \"questionId\": \"3.2_ImputeThought\", \"learnToolsVersion\": \"0.3.4\", \"valueTowardsCompletion\": 0.0, \"failureMessage\": \"\", \"exceptionClass\": \"\", \"trace\": \"\", \"outcomeType\": 4}}, \"*\")"
      ],
      "text/plain": [
       "<IPython.core.display.Javascript object>"
      ]
     },
     "metadata": {},
     "output_type": "display_data"
    },
    {
     "data": {
      "text/markdown": [
       "<span style=\"color:#3366cc\">Hint:</span> Did removing missing values yield a larger or smaller MAE than imputation? Does this agree with the coding example from the tutorial?"
      ],
      "text/plain": [
       "Hint: Did removing missing values yield a larger or smaller MAE than imputation? Does this agree with the coding example from the tutorial?"
      ]
     },
     "metadata": {},
     "output_type": "display_data"
    }
   ],
   "source": [
    "step_3.b.hint()"
   ]
  },
  {
   "cell_type": "markdown",
   "id": "ce9d6866",
   "metadata": {
    "papermill": {
     "duration": 0.013255,
     "end_time": "2022-11-13T04:10:01.662765",
     "exception": false,
     "start_time": "2022-11-13T04:10:01.649510",
     "status": "completed"
    },
    "tags": []
   },
   "source": [
    "# Step 4: Generate test predictions\n",
    "\n",
    "In this final step, you'll use any approach of your choosing to deal with missing values.  Once you've preprocessed the training and validation features, you'll train and evaluate a random forest model.  Then, you'll preprocess the test data before generating predictions that can be submitted to the competition!\n",
    "\n",
    "### Part A\n",
    "\n",
    "Use the next code cell to preprocess the training and validation data.  Set the preprocessed DataFrames to `final_X_train` and `final_X_valid`.  **You can use any approach of your choosing here!**  in order for this step to be marked as correct, you need only ensure:\n",
    "- the preprocessed DataFrames have the same number of columns,\n",
    "- the preprocessed DataFrames have no missing values, \n",
    "- `final_X_train` and `y_train` have the same number of rows, and\n",
    "- `final_X_valid` and `y_valid` have the same number of rows."
   ]
  },
  {
   "cell_type": "code",
   "execution_count": 22,
   "id": "ac47ffca",
   "metadata": {
    "execution": {
     "iopub.execute_input": "2022-11-13T04:10:01.692995Z",
     "iopub.status.busy": "2022-11-13T04:10:01.692231Z",
     "iopub.status.idle": "2022-11-13T04:10:01.709947Z",
     "shell.execute_reply": "2022-11-13T04:10:01.708753Z"
    },
    "papermill": {
     "duration": 0.035142,
     "end_time": "2022-11-13T04:10:01.712371",
     "exception": false,
     "start_time": "2022-11-13T04:10:01.677229",
     "status": "completed"
    },
    "tags": []
   },
   "outputs": [
    {
     "data": {
      "application/javascript": [
       "parent.postMessage({\"jupyterEvent\": \"custom.exercise_interaction\", \"data\": {\"outcomeType\": 1, \"valueTowardsCompletion\": 1.0, \"interactionType\": 1, \"questionType\": 2, \"questionId\": \"4.1_PredsCodeA\", \"learnToolsVersion\": \"0.3.4\", \"failureMessage\": \"\", \"exceptionClass\": \"\", \"trace\": \"\"}}, \"*\")"
      ],
      "text/plain": [
       "<IPython.core.display.Javascript object>"
      ]
     },
     "metadata": {},
     "output_type": "display_data"
    },
    {
     "data": {
      "text/markdown": [
       "<span style=\"color:#33cc33\">Correct</span>"
      ],
      "text/plain": [
       "Correct"
      ]
     },
     "metadata": {},
     "output_type": "display_data"
    }
   ],
   "source": [
    "# Preprocessed training and validation features\n",
    "final_X_train = imputed_X_train # imputed training data\n",
    "final_X_valid = imputed_X_valid # imputed validation data\n",
    "\n",
    "# Check your answers\n",
    "step_4.a.check()"
   ]
  },
  {
   "cell_type": "code",
   "execution_count": 23,
   "id": "e9918d16",
   "metadata": {
    "execution": {
     "iopub.execute_input": "2022-11-13T04:10:01.744269Z",
     "iopub.status.busy": "2022-11-13T04:10:01.743475Z",
     "iopub.status.idle": "2022-11-13T04:10:01.748589Z",
     "shell.execute_reply": "2022-11-13T04:10:01.747426Z"
    },
    "papermill": {
     "duration": 0.023994,
     "end_time": "2022-11-13T04:10:01.750862",
     "exception": false,
     "start_time": "2022-11-13T04:10:01.726868",
     "status": "completed"
    },
    "tags": []
   },
   "outputs": [],
   "source": [
    "# Lines below will give you a hint or solution code\n",
    "#step_4.a.hint()\n",
    "#step_4.a.solution()"
   ]
  },
  {
   "cell_type": "markdown",
   "id": "5f7c081c",
   "metadata": {
    "papermill": {
     "duration": 0.014479,
     "end_time": "2022-11-13T04:10:01.779578",
     "exception": false,
     "start_time": "2022-11-13T04:10:01.765099",
     "status": "completed"
    },
    "tags": []
   },
   "source": [
    "Run the next code cell to train and evaluate a random forest model.  (*Note that we don't use the `score_dataset()` function above, because we will soon use the trained model to generate test predictions!*)"
   ]
  },
  {
   "cell_type": "code",
   "execution_count": 24,
   "id": "71dff46d",
   "metadata": {
    "execution": {
     "iopub.execute_input": "2022-11-13T04:10:01.810865Z",
     "iopub.status.busy": "2022-11-13T04:10:01.810196Z",
     "iopub.status.idle": "2022-11-13T04:10:03.033205Z",
     "shell.execute_reply": "2022-11-13T04:10:03.031809Z"
    },
    "papermill": {
     "duration": 1.241632,
     "end_time": "2022-11-13T04:10:03.035970",
     "exception": false,
     "start_time": "2022-11-13T04:10:01.794338",
     "status": "completed"
    },
    "tags": []
   },
   "outputs": [
    {
     "name": "stdout",
     "output_type": "stream",
     "text": [
      "MAE (Your approach):\n",
      "18062.894611872147\n"
     ]
    }
   ],
   "source": [
    "# Define and fit model\n",
    "model = RandomForestRegressor(n_estimators=100, random_state=0)\n",
    "model.fit(final_X_train, y_train)\n",
    "\n",
    "# Get validation predictions and MAE\n",
    "preds_valid = model.predict(final_X_valid)\n",
    "print(\"MAE (Your approach):\")\n",
    "print(mean_absolute_error(y_valid, preds_valid))"
   ]
  },
  {
   "cell_type": "markdown",
   "id": "9ab0e121",
   "metadata": {
    "papermill": {
     "duration": 0.013741,
     "end_time": "2022-11-13T04:10:03.063950",
     "exception": false,
     "start_time": "2022-11-13T04:10:03.050209",
     "status": "completed"
    },
    "tags": []
   },
   "source": [
    "### Part B\n",
    "\n",
    "Use the next code cell to preprocess your test data.  Make sure that you use a method that agrees with how you preprocessed the training and validation data, and set the preprocessed test features to `final_X_test`.\n",
    "\n",
    "Then, use the preprocessed test features and the trained model to generate test predictions in `preds_test`.\n",
    "\n",
    "In order for this step to be marked correct, you need only ensure:\n",
    "- the preprocessed test DataFrame has no missing values, and\n",
    "- `final_X_test` has the same number of rows as `X_test`."
   ]
  },
  {
   "cell_type": "code",
   "execution_count": 25,
   "id": "ea415a4b",
   "metadata": {
    "execution": {
     "iopub.execute_input": "2022-11-13T04:10:03.094479Z",
     "iopub.status.busy": "2022-11-13T04:10:03.093764Z",
     "iopub.status.idle": "2022-11-13T04:10:03.156555Z",
     "shell.execute_reply": "2022-11-13T04:10:03.154900Z"
    },
    "papermill": {
     "duration": 0.081284,
     "end_time": "2022-11-13T04:10:03.159223",
     "exception": false,
     "start_time": "2022-11-13T04:10:03.077939",
     "status": "completed"
    },
    "tags": []
   },
   "outputs": [
    {
     "name": "stderr",
     "output_type": "stream",
     "text": [
      "/opt/conda/lib/python3.7/site-packages/sklearn/base.py:451: UserWarning: X does not have valid feature names, but RandomForestRegressor was fitted with feature names\n",
      "  \"X does not have valid feature names, but\"\n"
     ]
    },
    {
     "data": {
      "application/javascript": [
       "parent.postMessage({\"jupyterEvent\": \"custom.exercise_interaction\", \"data\": {\"outcomeType\": 1, \"valueTowardsCompletion\": 1.0, \"interactionType\": 1, \"questionType\": 2, \"questionId\": \"4.2_PredsCodeB\", \"learnToolsVersion\": \"0.3.4\", \"failureMessage\": \"\", \"exceptionClass\": \"\", \"trace\": \"\"}}, \"*\")"
      ],
      "text/plain": [
       "<IPython.core.display.Javascript object>"
      ]
     },
     "metadata": {},
     "output_type": "display_data"
    },
    {
     "data": {
      "text/markdown": [
       "<span style=\"color:#33cc33\">Correct</span>"
      ],
      "text/plain": [
       "Correct"
      ]
     },
     "metadata": {},
     "output_type": "display_data"
    }
   ],
   "source": [
    "# Fill in the line below: preprocess test data\n",
    "final_X_test = pd.DataFrame(my_imputer.transform(X_test)) # impute the test data\n",
    "\n",
    "# Fill in the line below: get test predictions\n",
    "preds_test = model.predict(final_X_test) # get test predictions\n",
    "\n",
    "# Check your answers\n",
    "step_4.b.check()"
   ]
  },
  {
   "cell_type": "markdown",
   "id": "88abb35f",
   "metadata": {
    "papermill": {
     "duration": 0.014869,
     "end_time": "2022-11-13T04:10:03.188489",
     "exception": false,
     "start_time": "2022-11-13T04:10:03.173620",
     "status": "completed"
    },
    "tags": []
   },
   "source": [
    "# > My notes\n",
    "\n",
    "```\n",
    "X does not have valid feature names, but RandomForestRegressor was fitted with feature names\n",
    "  warnings.warn(\n",
    "```\n",
    "\n",
    ">The above warning is expected.  The test set does not have feature names, so the model can't check that the test set has the same features as the training set.  However, the model will still generate predictions. You can read more about this warning [here](https://github.com/tylerjrichards/Getting-Started-with-Streamlit-for-Data-Science/issues/5). Read more about feature names [here](https://www.kaggle.com/dansbecker/using-categorical-data-with-one-hot-encoding). \n",
    ">\n",
    ">We can ignore this warning for now.\n",
    "\n",
    "\n",
    "    "
   ]
  },
  {
   "cell_type": "code",
   "execution_count": 26,
   "id": "1a4273a8",
   "metadata": {
    "execution": {
     "iopub.execute_input": "2022-11-13T04:10:03.219628Z",
     "iopub.status.busy": "2022-11-13T04:10:03.219174Z",
     "iopub.status.idle": "2022-11-13T04:10:03.232340Z",
     "shell.execute_reply": "2022-11-13T04:10:03.230923Z"
    },
    "papermill": {
     "duration": 0.031579,
     "end_time": "2022-11-13T04:10:03.234700",
     "exception": false,
     "start_time": "2022-11-13T04:10:03.203121",
     "status": "completed"
    },
    "tags": []
   },
   "outputs": [
    {
     "data": {
      "application/javascript": [
       "parent.postMessage({\"jupyterEvent\": \"custom.exercise_interaction\", \"data\": {\"interactionType\": 2, \"questionType\": 2, \"questionId\": \"4.2_PredsCodeB\", \"learnToolsVersion\": \"0.3.4\", \"valueTowardsCompletion\": 0.0, \"failureMessage\": \"\", \"exceptionClass\": \"\", \"trace\": \"\", \"outcomeType\": 4}}, \"*\")"
      ],
      "text/plain": [
       "<IPython.core.display.Javascript object>"
      ]
     },
     "metadata": {},
     "output_type": "display_data"
    },
    {
     "data": {
      "text/markdown": [
       "<span style=\"color:#3366cc\">Hint:</span> After preprocessing the test data, you can get the model's predictions by using `model.predict()`."
      ],
      "text/plain": [
       "Hint: After preprocessing the test data, you can get the model's predictions by using `model.predict()`."
      ]
     },
     "metadata": {},
     "output_type": "display_data"
    },
    {
     "data": {
      "application/javascript": [
       "parent.postMessage({\"jupyterEvent\": \"custom.exercise_interaction\", \"data\": {\"interactionType\": 3, \"questionType\": 2, \"questionId\": \"4.2_PredsCodeB\", \"learnToolsVersion\": \"0.3.4\", \"valueTowardsCompletion\": 0.0, \"failureMessage\": \"\", \"exceptionClass\": \"\", \"trace\": \"\", \"outcomeType\": 4}}, \"*\")"
      ],
      "text/plain": [
       "<IPython.core.display.Javascript object>"
      ]
     },
     "metadata": {},
     "output_type": "display_data"
    },
    {
     "data": {
      "text/markdown": [
       "<span style=\"color:#33cc99\">Solution:</span> \n",
       "```python\n",
       "# Preprocess test data\n",
       "final_X_test = pd.DataFrame(final_imputer.transform(X_test))\n",
       "\n",
       "# Get test predictions\n",
       "preds_test = model.predict(final_X_test)\n",
       "\n",
       "```"
      ],
      "text/plain": [
       "Solution: \n",
       "```python\n",
       "# Preprocess test data\n",
       "final_X_test = pd.DataFrame(final_imputer.transform(X_test))\n",
       "\n",
       "# Get test predictions\n",
       "preds_test = model.predict(final_X_test)\n",
       "\n",
       "```"
      ]
     },
     "metadata": {},
     "output_type": "display_data"
    }
   ],
   "source": [
    "# Lines below will give you a hint or solution code\n",
    "step_4.b.hint()\n",
    "step_4.b.solution()\n"
   ]
  },
  {
   "cell_type": "markdown",
   "id": "e7be049a",
   "metadata": {
    "papermill": {
     "duration": 0.014499,
     "end_time": "2022-11-13T04:10:03.264206",
     "exception": false,
     "start_time": "2022-11-13T04:10:03.249707",
     "status": "completed"
    },
    "tags": []
   },
   "source": [
    "Run the next code cell without changes to save your results to a CSV file that can be submitted directly to the competition."
   ]
  },
  {
   "cell_type": "code",
   "execution_count": 27,
   "id": "4eefc52a",
   "metadata": {
    "execution": {
     "iopub.execute_input": "2022-11-13T04:10:03.295493Z",
     "iopub.status.busy": "2022-11-13T04:10:03.295096Z",
     "iopub.status.idle": "2022-11-13T04:10:03.307036Z",
     "shell.execute_reply": "2022-11-13T04:10:03.306093Z"
    },
    "papermill": {
     "duration": 0.030397,
     "end_time": "2022-11-13T04:10:03.309322",
     "exception": false,
     "start_time": "2022-11-13T04:10:03.278925",
     "status": "completed"
    },
    "tags": []
   },
   "outputs": [],
   "source": [
    "# Save test predictions to file\n",
    "output = pd.DataFrame({'Id': X_test.index,\n",
    "                       'SalePrice': preds_test})\n",
    "output.to_csv('submission.csv', index=False)"
   ]
  },
  {
   "cell_type": "markdown",
   "id": "139d6b80",
   "metadata": {
    "papermill": {
     "duration": 0.014545,
     "end_time": "2022-11-13T04:10:03.338910",
     "exception": false,
     "start_time": "2022-11-13T04:10:03.324365",
     "status": "completed"
    },
    "tags": []
   },
   "source": [
    "# Submit your results\n",
    "\n",
    "Once you have successfully completed Step 4, you're ready to submit your results to the leaderboard!  (_You also learned how to do this in the previous exercise.  If you need a reminder of how to do this, please use the instructions below._)  \n",
    "\n",
    "First, you'll need to join the competition if you haven't already.  So open a new window by clicking on [this link](https://www.kaggle.com/c/home-data-for-ml-course).  Then click on the **Join Competition** button.\n",
    "\n",
    "![join competition image](https://i.imgur.com/wLmFtH3.png)\n",
    "\n",
    "Next, follow the instructions below:\n",
    "1. Begin by clicking on the **Save Version** button in the top right corner of the window.  This will generate a pop-up window.  \n",
    "2. Ensure that the **Save and Run All** option is selected, and then click on the **Save** button.\n",
    "3. This generates a window in the bottom left corner of the notebook.  After it has finished running, click on the number to the right of the **Save Version** button.  This pulls up a list of versions on the right of the screen.  Click on the ellipsis **(...)** to the right of the most recent version, and select **Open in Viewer**.  This brings you into view mode of the same page. You will need to scroll down to get back to these instructions.\n",
    "4. Click on the **Output** tab on the right of the screen.  Then, click on the file you would like to submit, and click on the **Submit** button to submit your results to the leaderboard.\n",
    "\n",
    "You have now successfully submitted to the competition!\n",
    "\n",
    "If you want to keep working to improve your performance, select the **Edit** button in the top right of the screen. Then you can change your code and repeat the process. There's a lot of room to improve, and you will climb up the leaderboard as you work.\n",
    "\n",
    "\n",
    "# Keep going\n",
    "\n",
    "Move on to learn what **[categorical variables](https://www.kaggle.com/alexisbcook/categorical-variables)** are, along with how to incorporate them into your machine learning models.  Categorical variables are very common in real-world data, but you'll get an error if you try to plug them into your models without processing them first!"
   ]
  },
  {
   "cell_type": "markdown",
   "id": "1208322b",
   "metadata": {
    "papermill": {
     "duration": 0.014583,
     "end_time": "2022-11-13T04:10:03.368494",
     "exception": false,
     "start_time": "2022-11-13T04:10:03.353911",
     "status": "completed"
    },
    "tags": []
   },
   "source": [
    "---\n",
    "\n",
    "\n",
    "\n",
    "\n",
    "*Have questions or comments? Visit the [course discussion forum](https://www.kaggle.com/learn/intermediate-machine-learning/discussion) to chat with other learners.*"
   ]
  }
 ],
 "metadata": {
  "kernelspec": {
   "display_name": "Python 3",
   "language": "python",
   "name": "python3"
  },
  "language_info": {
   "codemirror_mode": {
    "name": "ipython",
    "version": 3
   },
   "file_extension": ".py",
   "mimetype": "text/x-python",
   "name": "python",
   "nbconvert_exporter": "python",
   "pygments_lexer": "ipython3",
   "version": "3.7.12"
  },
  "papermill": {
   "default_parameters": {},
   "duration": 21.84888,
   "end_time": "2022-11-13T04:10:04.105214",
   "environment_variables": {},
   "exception": null,
   "input_path": "__notebook__.ipynb",
   "output_path": "__notebook__.ipynb",
   "parameters": {},
   "start_time": "2022-11-13T04:09:42.256334",
   "version": "2.3.4"
  }
 },
 "nbformat": 4,
 "nbformat_minor": 5
}
