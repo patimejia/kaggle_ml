{
 "cells": [
  {
   "cell_type": "markdown",
   "id": "a5634335",
   "metadata": {
    "papermill": {
     "duration": 0.006477,
     "end_time": "2022-10-02T03:34:55.315021",
     "exception": false,
     "start_time": "2022-10-02T03:34:55.308544",
     "status": "completed"
    },
    "tags": []
   },
   "source": [
    "**This notebook is an exercise in the [Introduction to Machine Learning](https://www.kaggle.com/learn/intro-to-machine-learning) course.  You can reference the tutorial at [this link](https://www.kaggle.com/dansbecker/model-validation).**\n",
    "\n",
    "---\n"
   ]
  },
  {
   "cell_type": "markdown",
   "id": "60425a7e",
   "metadata": {
    "papermill": {
     "duration": 0.005172,
     "end_time": "2022-10-02T03:34:55.325556",
     "exception": false,
     "start_time": "2022-10-02T03:34:55.320384",
     "status": "completed"
    },
    "tags": []
   },
   "source": [
    "## Recap\n",
    "You've built a model. In this exercise you will test how good your model is.\n",
    "\n",
    "Run the cell below to set up your coding environment where the previous exercise left off."
   ]
  },
  {
   "cell_type": "code",
   "execution_count": 1,
   "id": "ccc59104",
   "metadata": {
    "execution": {
     "iopub.execute_input": "2022-10-02T03:34:55.339426Z",
     "iopub.status.busy": "2022-10-02T03:34:55.338255Z",
     "iopub.status.idle": "2022-10-02T03:34:56.868739Z",
     "shell.execute_reply": "2022-10-02T03:34:56.867350Z"
    },
    "papermill": {
     "duration": 1.541589,
     "end_time": "2022-10-02T03:34:56.872395",
     "exception": false,
     "start_time": "2022-10-02T03:34:55.330806",
     "status": "completed"
    },
    "tags": []
   },
   "outputs": [
    {
     "name": "stdout",
     "output_type": "stream",
     "text": [
      "First in-sample predictions: [208500. 181500. 223500. 140000. 250000.]\n",
      "Actual target values for those homes: [208500, 181500, 223500, 140000, 250000]\n",
      "Setup Complete\n"
     ]
    }
   ],
   "source": [
    "# Code you have previously used to load data\n",
    "import pandas as pd\n",
    "from sklearn.tree import DecisionTreeRegressor\n",
    "\n",
    "# Path of the file to read\n",
    "iowa_file_path = '../input/home-data-for-ml-course/train.csv'\n",
    "\n",
    "home_data = pd.read_csv(iowa_file_path)\n",
    "y = home_data.SalePrice\n",
    "feature_columns = ['LotArea', 'YearBuilt', '1stFlrSF', '2ndFlrSF', 'FullBath', 'BedroomAbvGr', 'TotRmsAbvGrd']\n",
    "X = home_data[feature_columns]\n",
    "\n",
    "# Specify Model\n",
    "iowa_model = DecisionTreeRegressor()\n",
    "# Fit Model\n",
    "iowa_model.fit(X, y)\n",
    "\n",
    "print(\"First in-sample predictions:\", iowa_model.predict(X.head()))\n",
    "print(\"Actual target values for those homes:\", y.head().tolist())\n",
    "\n",
    "# Set up code checking\n",
    "from learntools.core import binder\n",
    "binder.bind(globals())\n",
    "from learntools.machine_learning.ex4 import *\n",
    "print(\"Setup Complete\")"
   ]
  },
  {
   "cell_type": "markdown",
   "id": "f052942d",
   "metadata": {
    "papermill": {
     "duration": 0.005337,
     "end_time": "2022-10-02T03:34:56.883793",
     "exception": false,
     "start_time": "2022-10-02T03:34:56.878456",
     "status": "completed"
    },
    "tags": []
   },
   "source": [
    "# Exercises\n",
    "\n",
    "## Step 1: Split Your Data\n",
    "Use the `train_test_split` function to split up your data.\n",
    "\n",
    "Give it the argument `random_state=1` so the `check` functions know what to expect when verifying your code.\n",
    "\n",
    "Recall, your features are loaded in the DataFrame **X** and your target is loaded in **y**.\n"
   ]
  },
  {
   "cell_type": "code",
   "execution_count": 2,
   "id": "b0c32594",
   "metadata": {
    "execution": {
     "iopub.execute_input": "2022-10-02T03:34:56.897620Z",
     "iopub.status.busy": "2022-10-02T03:34:56.896963Z",
     "iopub.status.idle": "2022-10-02T03:34:56.913647Z",
     "shell.execute_reply": "2022-10-02T03:34:56.912422Z"
    },
    "papermill": {
     "duration": 0.026474,
     "end_time": "2022-10-02T03:34:56.916142",
     "exception": false,
     "start_time": "2022-10-02T03:34:56.889668",
     "status": "completed"
    },
    "tags": []
   },
   "outputs": [
    {
     "data": {
      "application/javascript": [
       "parent.postMessage({\"jupyterEvent\": \"custom.exercise_interaction\", \"data\": {\"outcomeType\": 1, \"valueTowardsCompletion\": 0.25, \"interactionType\": 1, \"questionType\": 2, \"questionId\": \"1_SplitData\", \"learnToolsVersion\": \"0.3.4\", \"failureMessage\": \"\", \"exceptionClass\": \"\", \"trace\": \"\"}}, \"*\")"
      ],
      "text/plain": [
       "<IPython.core.display.Javascript object>"
      ]
     },
     "metadata": {},
     "output_type": "display_data"
    },
    {
     "data": {
      "text/markdown": [
       "<span style=\"color:#33cc33\">Correct</span>"
      ],
      "text/plain": [
       "Correct"
      ]
     },
     "metadata": {},
     "output_type": "display_data"
    }
   ],
   "source": [
    "# Import the train_test_split function and uncomment\n",
    "from sklearn.model_selection import train_test_split\n",
    "\n",
    "# fill in and uncomment\n",
    "train_X, val_X, train_y, val_y = train_test_split(X, y, random_state = 1) # set random_state to 1 so that the answer matches the expected output and the test passes successfully. You can change this value to any number to see how the validation score changes.\n",
    "\n",
    "# Check your answer\n",
    "step_1.check()"
   ]
  },
  {
   "cell_type": "code",
   "execution_count": 3,
   "id": "f6a9b96b",
   "metadata": {
    "execution": {
     "iopub.execute_input": "2022-10-02T03:34:56.929197Z",
     "iopub.status.busy": "2022-10-02T03:34:56.928400Z",
     "iopub.status.idle": "2022-10-02T03:34:56.933053Z",
     "shell.execute_reply": "2022-10-02T03:34:56.932257Z"
    },
    "papermill": {
     "duration": 0.013763,
     "end_time": "2022-10-02T03:34:56.935333",
     "exception": false,
     "start_time": "2022-10-02T03:34:56.921570",
     "status": "completed"
    },
    "tags": []
   },
   "outputs": [],
   "source": [
    "# The lines below will show you a hint or the solution.\n",
    "# step_1.hint() \n",
    "# step_1.solution()\n"
   ]
  },
  {
   "cell_type": "markdown",
   "id": "4f22f91f",
   "metadata": {
    "papermill": {
     "duration": 0.005187,
     "end_time": "2022-10-02T03:34:56.946261",
     "exception": false,
     "start_time": "2022-10-02T03:34:56.941074",
     "status": "completed"
    },
    "tags": []
   },
   "source": [
    "## Step 2: Specify and Fit the Model\n",
    "\n",
    "Create a `DecisionTreeRegressor` model and fit it to the relevant data.\n",
    "Set `random_state` to 1 again when creating the model."
   ]
  },
  {
   "cell_type": "code",
   "execution_count": 4,
   "id": "91a5092b",
   "metadata": {
    "execution": {
     "iopub.execute_input": "2022-10-02T03:34:56.959195Z",
     "iopub.status.busy": "2022-10-02T03:34:56.958537Z",
     "iopub.status.idle": "2022-10-02T03:34:56.987692Z",
     "shell.execute_reply": "2022-10-02T03:34:56.986205Z"
    },
    "papermill": {
     "duration": 0.038431,
     "end_time": "2022-10-02T03:34:56.990052",
     "exception": false,
     "start_time": "2022-10-02T03:34:56.951621",
     "status": "completed"
    },
    "tags": []
   },
   "outputs": [
    {
     "name": "stdout",
     "output_type": "stream",
     "text": [
      "[186500. 184000. 130000.  92000. 164500. 220000. 335000. 144152. 215000.\n",
      " 262000.]\n",
      "[186500. 184000. 130000.  92000. 164500. 220000. 335000. 144152. 215000.\n",
      " 262000.]\n"
     ]
    },
    {
     "data": {
      "application/javascript": [
       "parent.postMessage({\"jupyterEvent\": \"custom.exercise_interaction\", \"data\": {\"outcomeType\": 1, \"valueTowardsCompletion\": 0.25, \"interactionType\": 1, \"questionType\": 2, \"questionId\": \"2_FitModelWithTrain\", \"learnToolsVersion\": \"0.3.4\", \"failureMessage\": \"\", \"exceptionClass\": \"\", \"trace\": \"\"}}, \"*\")"
      ],
      "text/plain": [
       "<IPython.core.display.Javascript object>"
      ]
     },
     "metadata": {},
     "output_type": "display_data"
    },
    {
     "data": {
      "text/markdown": [
       "<span style=\"color:#33cc33\">Correct</span>"
      ],
      "text/plain": [
       "Correct"
      ]
     },
     "metadata": {},
     "output_type": "display_data"
    }
   ],
   "source": [
    "# You imported DecisionTreeRegressor in your last exercise\n",
    "# and that code has been copied to the setup code above. So, no need to\n",
    "# import it again\n",
    "\n",
    "# Specify the model\n",
    "iowa_model = DecisionTreeRegressor(random_state=1)\n",
    "\n",
    "# Fit iowa_model with the training data.\n",
    "iowa_model.fit(train_X, train_y)\n",
    "\n",
    "# Check your answer\n",
    "step_2.check()"
   ]
  },
  {
   "cell_type": "code",
   "execution_count": 5,
   "id": "6d63354d",
   "metadata": {
    "execution": {
     "iopub.execute_input": "2022-10-02T03:34:57.003634Z",
     "iopub.status.busy": "2022-10-02T03:34:57.003226Z",
     "iopub.status.idle": "2022-10-02T03:34:57.008125Z",
     "shell.execute_reply": "2022-10-02T03:34:57.006400Z"
    },
    "papermill": {
     "duration": 0.01483,
     "end_time": "2022-10-02T03:34:57.010716",
     "exception": false,
     "start_time": "2022-10-02T03:34:56.995886",
     "status": "completed"
    },
    "tags": []
   },
   "outputs": [],
   "source": [
    "# step_2.hint()\n",
    "# step_2.solution()"
   ]
  },
  {
   "cell_type": "markdown",
   "id": "929cc066",
   "metadata": {
    "papermill": {
     "duration": 0.005592,
     "end_time": "2022-10-02T03:34:57.022201",
     "exception": false,
     "start_time": "2022-10-02T03:34:57.016609",
     "status": "completed"
    },
    "tags": []
   },
   "source": [
    "## Step 3: Make Predictions with Validation data\n"
   ]
  },
  {
   "cell_type": "code",
   "execution_count": 6,
   "id": "faac454a",
   "metadata": {
    "execution": {
     "iopub.execute_input": "2022-10-02T03:34:57.035857Z",
     "iopub.status.busy": "2022-10-02T03:34:57.035482Z",
     "iopub.status.idle": "2022-10-02T03:34:57.048388Z",
     "shell.execute_reply": "2022-10-02T03:34:57.047505Z"
    },
    "papermill": {
     "duration": 0.022624,
     "end_time": "2022-10-02T03:34:57.050602",
     "exception": false,
     "start_time": "2022-10-02T03:34:57.027978",
     "status": "completed"
    },
    "tags": []
   },
   "outputs": [
    {
     "data": {
      "application/javascript": [
       "parent.postMessage({\"jupyterEvent\": \"custom.exercise_interaction\", \"data\": {\"outcomeType\": 1, \"valueTowardsCompletion\": 0.25, \"interactionType\": 1, \"questionType\": 2, \"questionId\": \"3_ValPreds\", \"learnToolsVersion\": \"0.3.4\", \"failureMessage\": \"\", \"exceptionClass\": \"\", \"trace\": \"\"}}, \"*\")"
      ],
      "text/plain": [
       "<IPython.core.display.Javascript object>"
      ]
     },
     "metadata": {},
     "output_type": "display_data"
    },
    {
     "data": {
      "text/markdown": [
       "<span style=\"color:#33cc33\">Correct</span>"
      ],
      "text/plain": [
       "Correct"
      ]
     },
     "metadata": {},
     "output_type": "display_data"
    }
   ],
   "source": [
    "# Predict with all validation observations\n",
    "val_predictions = iowa_model.predict(val_X)\n",
    "\n",
    "# Check your answer\n",
    "step_3.check()"
   ]
  },
  {
   "cell_type": "code",
   "execution_count": 7,
   "id": "9051447d",
   "metadata": {
    "execution": {
     "iopub.execute_input": "2022-10-02T03:34:57.066173Z",
     "iopub.status.busy": "2022-10-02T03:34:57.064893Z",
     "iopub.status.idle": "2022-10-02T03:34:57.070589Z",
     "shell.execute_reply": "2022-10-02T03:34:57.069503Z"
    },
    "papermill": {
     "duration": 0.015327,
     "end_time": "2022-10-02T03:34:57.073022",
     "exception": false,
     "start_time": "2022-10-02T03:34:57.057695",
     "status": "completed"
    },
    "tags": []
   },
   "outputs": [],
   "source": [
    "# step_3.hint()\n",
    "# step_3.solution()"
   ]
  },
  {
   "cell_type": "markdown",
   "id": "2abfa923",
   "metadata": {
    "papermill": {
     "duration": 0.005676,
     "end_time": "2022-10-02T03:34:57.084750",
     "exception": false,
     "start_time": "2022-10-02T03:34:57.079074",
     "status": "completed"
    },
    "tags": []
   },
   "source": [
    "Inspect your predictions and actual values from validation data."
   ]
  },
  {
   "cell_type": "code",
   "execution_count": 8,
   "id": "91421cd4",
   "metadata": {
    "execution": {
     "iopub.execute_input": "2022-10-02T03:34:57.099532Z",
     "iopub.status.busy": "2022-10-02T03:34:57.098653Z",
     "iopub.status.idle": "2022-10-02T03:34:57.106017Z",
     "shell.execute_reply": "2022-10-02T03:34:57.104907Z"
    },
    "papermill": {
     "duration": 0.017697,
     "end_time": "2022-10-02T03:34:57.108402",
     "exception": false,
     "start_time": "2022-10-02T03:34:57.090705",
     "status": "completed"
    },
    "tags": []
   },
   "outputs": [
    {
     "name": "stdout",
     "output_type": "stream",
     "text": [
      "[186500. 184000. 130000.  92000. 164500.]\n",
      "[231500, 179500, 122000, 84500, 142000]\n"
     ]
    }
   ],
   "source": [
    "# print the top few validation predictions\n",
    "print(val_predictions[:5])\n",
    "# print the top few actual prices from validation data\n",
    "print(val_y.head().tolist())"
   ]
  },
  {
   "cell_type": "markdown",
   "id": "61edc91e",
   "metadata": {
    "papermill": {
     "duration": 0.005786,
     "end_time": "2022-10-02T03:34:57.120283",
     "exception": false,
     "start_time": "2022-10-02T03:34:57.114497",
     "status": "completed"
    },
    "tags": []
   },
   "source": [
    "What do you notice that is different from what you saw with in-sample predictions (which are printed after the top code cell in this page).\n",
    "\n",
    "Do you remember why validation predictions differ from in-sample (or training) predictions? This is an important idea from the last lesson.\n",
    "\n",
    "\n"
   ]
  },
  {
   "cell_type": "markdown",
   "id": "c9a36748",
   "metadata": {
    "papermill": {
     "duration": 0.005664,
     "end_time": "2022-10-02T03:34:57.131978",
     "exception": false,
     "start_time": "2022-10-02T03:34:57.126314",
     "status": "completed"
    },
    "tags": []
   },
   "source": [
    "answer: In-sample scores (the scores when you used the same data to train and validate the model) can give you a warm and fuzzy feeling, but they won't tell you how well the model will actually do in the future (when it encounters new data) because patterns in the training data may not be repeated in the validation data or in future data.\n",
    "So, we must use out-of-sample data for validation purposes. Because we have only one dataset, we divide it into two parts. One part is used to build the model, and the other part is used to validate the model. This is called **train-test split**."
   ]
  },
  {
   "cell_type": "markdown",
   "id": "ae28abd5",
   "metadata": {
    "papermill": {
     "duration": 0.006077,
     "end_time": "2022-10-02T03:34:57.144228",
     "exception": false,
     "start_time": "2022-10-02T03:34:57.138151",
     "status": "completed"
    },
    "tags": []
   },
   "source": [
    "## Step 4: Calculate the Mean Absolute Error in Validation Data"
   ]
  },
  {
   "cell_type": "code",
   "execution_count": 9,
   "id": "c0094a87",
   "metadata": {
    "execution": {
     "iopub.execute_input": "2022-10-02T03:34:57.158368Z",
     "iopub.status.busy": "2022-10-02T03:34:57.157674Z",
     "iopub.status.idle": "2022-10-02T03:34:57.170128Z",
     "shell.execute_reply": "2022-10-02T03:34:57.168585Z"
    },
    "papermill": {
     "duration": 0.02235,
     "end_time": "2022-10-02T03:34:57.172690",
     "exception": false,
     "start_time": "2022-10-02T03:34:57.150340",
     "status": "completed"
    },
    "tags": []
   },
   "outputs": [
    {
     "name": "stdout",
     "output_type": "stream",
     "text": [
      "Validation MAE when not specifying max_leaf_nodes: 29,653\n"
     ]
    },
    {
     "data": {
      "application/javascript": [
       "parent.postMessage({\"jupyterEvent\": \"custom.exercise_interaction\", \"data\": {\"outcomeType\": 1, \"valueTowardsCompletion\": 0.25, \"interactionType\": 1, \"questionType\": 1, \"questionId\": \"4_MAE\", \"learnToolsVersion\": \"0.3.4\", \"failureMessage\": \"\", \"exceptionClass\": \"\", \"trace\": \"\"}}, \"*\")"
      ],
      "text/plain": [
       "<IPython.core.display.Javascript object>"
      ]
     },
     "metadata": {},
     "output_type": "display_data"
    },
    {
     "data": {
      "text/markdown": [
       "<span style=\"color:#33cc33\">Correct</span>"
      ],
      "text/plain": [
       "Correct"
      ]
     },
     "metadata": {},
     "output_type": "display_data"
    }
   ],
   "source": [
    "from sklearn.metrics import mean_absolute_error\n",
    "val_mae = mean_absolute_error(val_predictions, val_y)\n",
    "\n",
    "# uncomment following line to see the validation_mae\n",
    "print('Validation MAE when not specifying max_leaf_nodes: {:,.0f}'.format(val_mae))\n",
    "\n",
    "# Check your answer\n",
    "step_4.check()"
   ]
  },
  {
   "cell_type": "code",
   "execution_count": 10,
   "id": "c58aec59",
   "metadata": {
    "execution": {
     "iopub.execute_input": "2022-10-02T03:34:57.187693Z",
     "iopub.status.busy": "2022-10-02T03:34:57.187327Z",
     "iopub.status.idle": "2022-10-02T03:34:57.191011Z",
     "shell.execute_reply": "2022-10-02T03:34:57.190152Z"
    },
    "papermill": {
     "duration": 0.014622,
     "end_time": "2022-10-02T03:34:57.193691",
     "exception": false,
     "start_time": "2022-10-02T03:34:57.179069",
     "status": "completed"
    },
    "tags": []
   },
   "outputs": [],
   "source": [
    "# step_4.hint()\n",
    "# step_4.solution()"
   ]
  },
  {
   "cell_type": "markdown",
   "id": "0a806075",
   "metadata": {
    "papermill": {
     "duration": 0.006093,
     "end_time": "2022-10-02T03:34:57.206244",
     "exception": false,
     "start_time": "2022-10-02T03:34:57.200151",
     "status": "completed"
    },
    "tags": []
   },
   "source": [
    "Is that MAE good?  There isn't a general rule for what values are good that applies across applications. But you'll see how to use (and improve) this number in the next step."
   ]
  },
  {
   "cell_type": "markdown",
   "id": "5c559b19",
   "metadata": {
    "papermill": {
     "duration": 0.006424,
     "end_time": "2022-10-02T03:34:57.219066",
     "exception": false,
     "start_time": "2022-10-02T03:34:57.212642",
     "status": "completed"
    },
    "tags": []
   },
   "source": [
    "answer: `Validation MAE when not specifying max_leaf_nodes: 29,653` This means that on average, our predictions are off by about $30,000 which is a lot.  This is because we have not specified a number for `max_leaf_nodes`.  This means that the model can continue making splits until it perfectly predicts all values in the training data, which causes overfitting. "
   ]
  },
  {
   "cell_type": "markdown",
   "id": "611f60c5",
   "metadata": {
    "papermill": {
     "duration": 0.006116,
     "end_time": "2022-10-02T03:34:57.231743",
     "exception": false,
     "start_time": "2022-10-02T03:34:57.225627",
     "status": "completed"
    },
    "tags": []
   },
   "source": [
    "# Keep Going\n",
    "\n",
    "You are ready for **[Underfitting and Overfitting](https://www.kaggle.com/dansbecker/underfitting-and-overfitting).**"
   ]
  },
  {
   "cell_type": "markdown",
   "id": "618e32d6",
   "metadata": {
    "papermill": {
     "duration": 0.006078,
     "end_time": "2022-10-02T03:34:57.244228",
     "exception": false,
     "start_time": "2022-10-02T03:34:57.238150",
     "status": "completed"
    },
    "tags": []
   },
   "source": [
    "---\n",
    "\n",
    "\n",
    "\n",
    "\n",
    "*Have questions or comments? Visit the [course discussion forum](https://www.kaggle.com/learn/intro-to-machine-learning/discussion) to chat with other learners.*"
   ]
  }
 ],
 "metadata": {
  "kernelspec": {
   "display_name": "Python 3",
   "language": "python",
   "name": "python3"
  },
  "language_info": {
   "codemirror_mode": {
    "name": "ipython",
    "version": 3
   },
   "file_extension": ".py",
   "mimetype": "text/x-python",
   "name": "python",
   "nbconvert_exporter": "python",
   "pygments_lexer": "ipython3",
   "version": "3.7.12"
  },
  "papermill": {
   "default_parameters": {},
   "duration": 12.406954,
   "end_time": "2022-10-02T03:34:58.073693",
   "environment_variables": {},
   "exception": null,
   "input_path": "__notebook__.ipynb",
   "output_path": "__notebook__.ipynb",
   "parameters": {},
   "start_time": "2022-10-02T03:34:45.666739",
   "version": "2.3.4"
  }
 },
 "nbformat": 4,
 "nbformat_minor": 5
}
